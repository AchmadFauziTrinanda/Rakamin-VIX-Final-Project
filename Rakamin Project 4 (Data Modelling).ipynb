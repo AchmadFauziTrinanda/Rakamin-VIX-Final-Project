{
 "cells": [
  {
   "cell_type": "code",
   "execution_count": 2,
   "metadata": {
    "id": "k4jBGyl_eFgd"
   },
   "outputs": [],
   "source": [
    "# import libraries\n",
    "import pandas as pd\n",
    "import numpy as np\n",
    "import seaborn as sns\n",
    "import matplotlib.pyplot as plt\n",
    "\n",
    "from sklearn.preprocessing import LabelEncoder\n",
    "from sklearn.feature_selection import SelectKBest #feature selection\n",
    "from sklearn.feature_selection import chi2\n",
    "from sklearn.utils import resample #re-sampling\n",
    "from sklearn.model_selection import train_test_split #data splitting\n",
    "from sklearn.preprocessing import StandardScaler #normalize features\n",
    "\n",
    "from sklearn.linear_model import LogisticRegression #logistic regression\n",
    "from sklearn.naive_bayes import GaussianNB #gaussian naive bayes\n",
    "from sklearn import tree\n",
    "from sklearn.tree import DecisionTreeClassifier #decision tree\n",
    "from sklearn.ensemble import RandomForestClassifier #random forest\n",
    "from sklearn.neighbors import KNeighborsClassifier #k-nearest neighbor\n",
    "from sklearn.neural_network import MLPClassifier #neural network\n",
    "from sklearn.metrics import confusion_matrix, classification_report \n",
    "from sklearn.metrics import roc_auc_score #roc score\n",
    "\n",
    "\n",
    "\n",
    "import warnings\n",
    "warnings.filterwarnings('ignore')"
   ]
  },
  {
   "cell_type": "code",
   "execution_count": 3,
   "metadata": {
    "id": "ScLA6xgueaor"
   },
   "outputs": [],
   "source": [
    "#buat fungsi untuk reduce memory.\n",
    "#intinya adalah iterasi keseluruh kolom pada dataframe dan mengubah datatype yg memorynya paling kecil.\n",
    "def reduce_mem_usage(df):\n",
    "    \n",
    "    start_mem = df.memory_usage().sum() / 1024**2\n",
    "    print('Memory usage of dataframe is {:.2f} MB'.format(start_mem))\n",
    "    \n",
    "    for col in df.columns:\n",
    "        col_type = df[col].dtype\n",
    "        \n",
    "        if col_type != object:\n",
    "            c_min = df[col].min()\n",
    "            c_max = df[col].max()\n",
    "            if str(col_type)[:3] == 'int':\n",
    "                if c_min > np.iinfo(np.int8).min and c_max < np.iinfo(np.int8).max:\n",
    "                    df[col] = df[col].astype(np.int8)\n",
    "                elif c_min > np.iinfo(np.int16).min and c_max < np.iinfo(np.int16).max:\n",
    "                    df[col] = df[col].astype(np.int16)\n",
    "                elif c_min > np.iinfo(np.int32).min and c_max < np.iinfo(np.int32).max:\n",
    "                    df[col] = df[col].astype(np.int32)\n",
    "                elif c_min > np.iinfo(np.int64).min and c_max < np.iinfo(np.int64).max:\n",
    "                    df[col] = df[col].astype(np.int64)  \n",
    "            else:\n",
    "                if c_min > np.finfo(np.float16).min and c_max < np.finfo(np.float16).max:\n",
    "                    df[col] = df[col].astype(np.float16)\n",
    "                elif c_min > np.finfo(np.float32).min and c_max < np.finfo(np.float32).max:\n",
    "                    df[col] = df[col].astype(np.float32)\n",
    "                else:\n",
    "                    df[col] = df[col].astype(np.float64)\n",
    "        else:\n",
    "            df[col] = df[col].astype('category')\n",
    "\n",
    "    end_mem = df.memory_usage().sum() / 1024**2\n",
    "    \n",
    "    print('Memory usage after optimization is: {:.2f} MB'.format(end_mem))\n",
    "    print('Decreased by {:.1f}%'.format(100 * (start_mem - end_mem) / start_mem))\n",
    "    \n",
    "    return df\n",
    "\n",
    "#fungsi untuk memanggil dataframe\n",
    "def import_data(file):\n",
    "    df = pd.read_csv(file, parse_dates=True, keep_date_col=True)\n",
    "    df = reduce_mem_usage(df)\n",
    "    return df"
   ]
  },
  {
   "cell_type": "code",
   "execution_count": 4,
   "metadata": {
    "colab": {
     "base_uri": "https://localhost:8080/"
    },
    "id": "X5C5bjQUejnd",
    "outputId": "28bd8928-c30f-48b1-e484-5d813a31d0f8"
   },
   "outputs": [
    {
     "name": "stdout",
     "output_type": "stream",
     "text": [
      "Memory usage of dataframe is 220.16 MB\n",
      "Memory usage after optimization is: 73.39 MB\n",
      "Decreased by 66.7%\n"
     ]
    }
   ],
   "source": [
    "data = import_data('/Users/achmadfauzitrinanda/Downloads/data_final.csv')"
   ]
  },
  {
   "cell_type": "code",
   "execution_count": 5,
   "metadata": {
    "colab": {
     "base_uri": "https://localhost:8080/",
     "height": 317
    },
    "id": "4x-i2mBvf6dg",
    "outputId": "776fd3c6-b0a0-4d38-f75c-0012e868148c"
   },
   "outputs": [
    {
     "data": {
      "text/html": [
       "<div>\n",
       "<style scoped>\n",
       "    .dataframe tbody tr th:only-of-type {\n",
       "        vertical-align: middle;\n",
       "    }\n",
       "\n",
       "    .dataframe tbody tr th {\n",
       "        vertical-align: top;\n",
       "    }\n",
       "\n",
       "    .dataframe thead th {\n",
       "        text-align: right;\n",
       "    }\n",
       "</style>\n",
       "<table border=\"1\" class=\"dataframe\">\n",
       "  <thead>\n",
       "    <tr style=\"text-align: right;\">\n",
       "      <th></th>\n",
       "      <th>Unnamed: 0</th>\n",
       "      <th>Unnamed: 0.1</th>\n",
       "      <th>SK_ID_CURR</th>\n",
       "      <th>NAME_CONTRACT_TYPE</th>\n",
       "      <th>FLAG_OWN_CAR</th>\n",
       "      <th>FLAG_OWN_REALTY</th>\n",
       "      <th>CNT_CHILDREN</th>\n",
       "      <th>AMT_INCOME_TOTAL</th>\n",
       "      <th>AMT_CREDIT</th>\n",
       "      <th>AMT_ANNUITY</th>\n",
       "      <th>...</th>\n",
       "      <th>Prev_IP_AMT_INSTALMENT</th>\n",
       "      <th>Prev_IP_AMT_PAYMENT</th>\n",
       "      <th>Prev_CCB_AMT_BALANCE</th>\n",
       "      <th>Prev_CCB_AMT_CREDIT_LIMIT_ACTUAL</th>\n",
       "      <th>Prev_CCB_AMT_DRAWINGS_CURRENT</th>\n",
       "      <th>Prev_CCB_AMT_PAYMENT_TOTAL_CURRENT</th>\n",
       "      <th>Prev_CCB_AMT_RECEIVABLE_PRINCIPAL</th>\n",
       "      <th>Prev_CCB_AMT_RECIVABLE</th>\n",
       "      <th>Prev_CCB_AMT_TOTAL_RECEIVABLE</th>\n",
       "      <th>TARGET</th>\n",
       "    </tr>\n",
       "  </thead>\n",
       "  <tbody>\n",
       "    <tr>\n",
       "      <th>0</th>\n",
       "      <td>0</td>\n",
       "      <td>0</td>\n",
       "      <td>100002</td>\n",
       "      <td>0</td>\n",
       "      <td>0</td>\n",
       "      <td>0</td>\n",
       "      <td>0</td>\n",
       "      <td>202500.0</td>\n",
       "      <td>406597.5</td>\n",
       "      <td>24700.5</td>\n",
       "      <td>...</td>\n",
       "      <td>21081.261719</td>\n",
       "      <td>21081.261719</td>\n",
       "      <td>27858.203125</td>\n",
       "      <td>171000.000000</td>\n",
       "      <td>4996.267090</td>\n",
       "      <td>4558.888672</td>\n",
       "      <td>26644.955078</td>\n",
       "      <td>27533.273438</td>\n",
       "      <td>27533.273438</td>\n",
       "      <td>1.0</td>\n",
       "    </tr>\n",
       "    <tr>\n",
       "      <th>1</th>\n",
       "      <td>1</td>\n",
       "      <td>1</td>\n",
       "      <td>100003</td>\n",
       "      <td>0</td>\n",
       "      <td>0</td>\n",
       "      <td>1</td>\n",
       "      <td>0</td>\n",
       "      <td>270000.0</td>\n",
       "      <td>1293502.5</td>\n",
       "      <td>35698.5</td>\n",
       "      <td>...</td>\n",
       "      <td>23136.941406</td>\n",
       "      <td>23136.941406</td>\n",
       "      <td>14996.948242</td>\n",
       "      <td>137903.218750</td>\n",
       "      <td>9184.992188</td>\n",
       "      <td>9456.458008</td>\n",
       "      <td>14305.061523</td>\n",
       "      <td>14548.675781</td>\n",
       "      <td>14548.675781</td>\n",
       "      <td>0.0</td>\n",
       "    </tr>\n",
       "    <tr>\n",
       "      <th>2</th>\n",
       "      <td>2</td>\n",
       "      <td>2</td>\n",
       "      <td>100004</td>\n",
       "      <td>1</td>\n",
       "      <td>1</td>\n",
       "      <td>0</td>\n",
       "      <td>0</td>\n",
       "      <td>67500.0</td>\n",
       "      <td>135000.0</td>\n",
       "      <td>6750.0</td>\n",
       "      <td>...</td>\n",
       "      <td>11450.142578</td>\n",
       "      <td>11450.142578</td>\n",
       "      <td>10685.238281</td>\n",
       "      <td>82025.320312</td>\n",
       "      <td>1090.424072</td>\n",
       "      <td>1530.968384</td>\n",
       "      <td>10255.441406</td>\n",
       "      <td>10597.750977</td>\n",
       "      <td>10597.750977</td>\n",
       "      <td>0.0</td>\n",
       "    </tr>\n",
       "    <tr>\n",
       "      <th>3</th>\n",
       "      <td>3</td>\n",
       "      <td>3</td>\n",
       "      <td>100006</td>\n",
       "      <td>0</td>\n",
       "      <td>0</td>\n",
       "      <td>0</td>\n",
       "      <td>0</td>\n",
       "      <td>135000.0</td>\n",
       "      <td>312682.5</td>\n",
       "      <td>29686.5</td>\n",
       "      <td>...</td>\n",
       "      <td>44632.816406</td>\n",
       "      <td>41626.031250</td>\n",
       "      <td>27858.203125</td>\n",
       "      <td>171000.000000</td>\n",
       "      <td>4996.267090</td>\n",
       "      <td>4558.888672</td>\n",
       "      <td>26644.955078</td>\n",
       "      <td>27533.273438</td>\n",
       "      <td>27533.273438</td>\n",
       "      <td>0.0</td>\n",
       "    </tr>\n",
       "    <tr>\n",
       "      <th>4</th>\n",
       "      <td>4</td>\n",
       "      <td>4</td>\n",
       "      <td>100007</td>\n",
       "      <td>0</td>\n",
       "      <td>0</td>\n",
       "      <td>0</td>\n",
       "      <td>0</td>\n",
       "      <td>121500.0</td>\n",
       "      <td>513000.0</td>\n",
       "      <td>21865.5</td>\n",
       "      <td>...</td>\n",
       "      <td>102297.515625</td>\n",
       "      <td>101564.226562</td>\n",
       "      <td>101208.390625</td>\n",
       "      <td>101250.000000</td>\n",
       "      <td>11736.103516</td>\n",
       "      <td>367.753510</td>\n",
       "      <td>88407.226562</td>\n",
       "      <td>98558.921875</td>\n",
       "      <td>98558.921875</td>\n",
       "      <td>0.0</td>\n",
       "    </tr>\n",
       "  </tbody>\n",
       "</table>\n",
       "<p>5 rows × 81 columns</p>\n",
       "</div>"
      ],
      "text/plain": [
       "   Unnamed: 0  Unnamed: 0.1  SK_ID_CURR  NAME_CONTRACT_TYPE  FLAG_OWN_CAR  \\\n",
       "0           0             0      100002                   0             0   \n",
       "1           1             1      100003                   0             0   \n",
       "2           2             2      100004                   1             1   \n",
       "3           3             3      100006                   0             0   \n",
       "4           4             4      100007                   0             0   \n",
       "\n",
       "   FLAG_OWN_REALTY  CNT_CHILDREN  AMT_INCOME_TOTAL  AMT_CREDIT  AMT_ANNUITY  \\\n",
       "0                0             0          202500.0    406597.5      24700.5   \n",
       "1                1             0          270000.0   1293502.5      35698.5   \n",
       "2                0             0           67500.0    135000.0       6750.0   \n",
       "3                0             0          135000.0    312682.5      29686.5   \n",
       "4                0             0          121500.0    513000.0      21865.5   \n",
       "\n",
       "   ...  Prev_IP_AMT_INSTALMENT  Prev_IP_AMT_PAYMENT  Prev_CCB_AMT_BALANCE  \\\n",
       "0  ...            21081.261719         21081.261719          27858.203125   \n",
       "1  ...            23136.941406         23136.941406          14996.948242   \n",
       "2  ...            11450.142578         11450.142578          10685.238281   \n",
       "3  ...            44632.816406         41626.031250          27858.203125   \n",
       "4  ...           102297.515625        101564.226562         101208.390625   \n",
       "\n",
       "   Prev_CCB_AMT_CREDIT_LIMIT_ACTUAL  Prev_CCB_AMT_DRAWINGS_CURRENT  \\\n",
       "0                     171000.000000                    4996.267090   \n",
       "1                     137903.218750                    9184.992188   \n",
       "2                      82025.320312                    1090.424072   \n",
       "3                     171000.000000                    4996.267090   \n",
       "4                     101250.000000                   11736.103516   \n",
       "\n",
       "   Prev_CCB_AMT_PAYMENT_TOTAL_CURRENT  Prev_CCB_AMT_RECEIVABLE_PRINCIPAL  \\\n",
       "0                         4558.888672                       26644.955078   \n",
       "1                         9456.458008                       14305.061523   \n",
       "2                         1530.968384                       10255.441406   \n",
       "3                         4558.888672                       26644.955078   \n",
       "4                          367.753510                       88407.226562   \n",
       "\n",
       "   Prev_CCB_AMT_RECIVABLE  Prev_CCB_AMT_TOTAL_RECEIVABLE  TARGET  \n",
       "0            27533.273438                   27533.273438     1.0  \n",
       "1            14548.675781                   14548.675781     0.0  \n",
       "2            10597.750977                   10597.750977     0.0  \n",
       "3            27533.273438                   27533.273438     0.0  \n",
       "4            98558.921875                   98558.921875     0.0  \n",
       "\n",
       "[5 rows x 81 columns]"
      ]
     },
     "execution_count": 5,
     "metadata": {},
     "output_type": "execute_result"
    }
   ],
   "source": [
    "data.head()"
   ]
  },
  {
   "cell_type": "code",
   "execution_count": 6,
   "metadata": {
    "id": "vC1rs7AAgH1a"
   },
   "outputs": [],
   "source": [
    "data.drop(columns=['Unnamed: 0', 'Unnamed: 0.1'], inplace=True)"
   ]
  },
  {
   "cell_type": "code",
   "execution_count": 7,
   "metadata": {
    "colab": {
     "base_uri": "https://localhost:8080/",
     "height": 300
    },
    "id": "j0TIPA4iQXUa",
    "outputId": "3e7000b7-35ce-4cee-ac56-d07132a7682b"
   },
   "outputs": [
    {
     "data": {
      "text/html": [
       "<div>\n",
       "<style scoped>\n",
       "    .dataframe tbody tr th:only-of-type {\n",
       "        vertical-align: middle;\n",
       "    }\n",
       "\n",
       "    .dataframe tbody tr th {\n",
       "        vertical-align: top;\n",
       "    }\n",
       "\n",
       "    .dataframe thead th {\n",
       "        text-align: right;\n",
       "    }\n",
       "</style>\n",
       "<table border=\"1\" class=\"dataframe\">\n",
       "  <thead>\n",
       "    <tr style=\"text-align: right;\">\n",
       "      <th></th>\n",
       "      <th>SK_ID_CURR</th>\n",
       "      <th>NAME_CONTRACT_TYPE</th>\n",
       "      <th>FLAG_OWN_CAR</th>\n",
       "      <th>FLAG_OWN_REALTY</th>\n",
       "      <th>CNT_CHILDREN</th>\n",
       "      <th>AMT_INCOME_TOTAL</th>\n",
       "      <th>AMT_CREDIT</th>\n",
       "      <th>AMT_ANNUITY</th>\n",
       "      <th>AMT_GOODS_PRICE</th>\n",
       "      <th>NAME_TYPE_SUITE</th>\n",
       "      <th>...</th>\n",
       "      <th>Prev_IP_AMT_INSTALMENT</th>\n",
       "      <th>Prev_IP_AMT_PAYMENT</th>\n",
       "      <th>Prev_CCB_AMT_BALANCE</th>\n",
       "      <th>Prev_CCB_AMT_CREDIT_LIMIT_ACTUAL</th>\n",
       "      <th>Prev_CCB_AMT_DRAWINGS_CURRENT</th>\n",
       "      <th>Prev_CCB_AMT_PAYMENT_TOTAL_CURRENT</th>\n",
       "      <th>Prev_CCB_AMT_RECEIVABLE_PRINCIPAL</th>\n",
       "      <th>Prev_CCB_AMT_RECIVABLE</th>\n",
       "      <th>Prev_CCB_AMT_TOTAL_RECEIVABLE</th>\n",
       "      <th>TARGET</th>\n",
       "    </tr>\n",
       "  </thead>\n",
       "  <tbody>\n",
       "    <tr>\n",
       "      <th>0</th>\n",
       "      <td>100002</td>\n",
       "      <td>0</td>\n",
       "      <td>0</td>\n",
       "      <td>0</td>\n",
       "      <td>0</td>\n",
       "      <td>202500.0</td>\n",
       "      <td>406597.5</td>\n",
       "      <td>24700.5</td>\n",
       "      <td>351000.0</td>\n",
       "      <td>248526.0</td>\n",
       "      <td>...</td>\n",
       "      <td>21081.261719</td>\n",
       "      <td>21081.261719</td>\n",
       "      <td>27858.203125</td>\n",
       "      <td>171000.000000</td>\n",
       "      <td>4996.267090</td>\n",
       "      <td>4558.888672</td>\n",
       "      <td>26644.955078</td>\n",
       "      <td>27533.273438</td>\n",
       "      <td>27533.273438</td>\n",
       "      <td>1.0</td>\n",
       "    </tr>\n",
       "    <tr>\n",
       "      <th>1</th>\n",
       "      <td>100003</td>\n",
       "      <td>0</td>\n",
       "      <td>0</td>\n",
       "      <td>1</td>\n",
       "      <td>0</td>\n",
       "      <td>270000.0</td>\n",
       "      <td>1293502.5</td>\n",
       "      <td>35698.5</td>\n",
       "      <td>1129500.0</td>\n",
       "      <td>40149.0</td>\n",
       "      <td>...</td>\n",
       "      <td>23136.941406</td>\n",
       "      <td>23136.941406</td>\n",
       "      <td>14996.948242</td>\n",
       "      <td>137903.218750</td>\n",
       "      <td>9184.992188</td>\n",
       "      <td>9456.458008</td>\n",
       "      <td>14305.061523</td>\n",
       "      <td>14548.675781</td>\n",
       "      <td>14548.675781</td>\n",
       "      <td>0.0</td>\n",
       "    </tr>\n",
       "    <tr>\n",
       "      <th>2</th>\n",
       "      <td>100004</td>\n",
       "      <td>1</td>\n",
       "      <td>1</td>\n",
       "      <td>0</td>\n",
       "      <td>0</td>\n",
       "      <td>67500.0</td>\n",
       "      <td>135000.0</td>\n",
       "      <td>6750.0</td>\n",
       "      <td>135000.0</td>\n",
       "      <td>248526.0</td>\n",
       "      <td>...</td>\n",
       "      <td>11450.142578</td>\n",
       "      <td>11450.142578</td>\n",
       "      <td>10685.238281</td>\n",
       "      <td>82025.320312</td>\n",
       "      <td>1090.424072</td>\n",
       "      <td>1530.968384</td>\n",
       "      <td>10255.441406</td>\n",
       "      <td>10597.750977</td>\n",
       "      <td>10597.750977</td>\n",
       "      <td>0.0</td>\n",
       "    </tr>\n",
       "    <tr>\n",
       "      <th>3</th>\n",
       "      <td>100006</td>\n",
       "      <td>0</td>\n",
       "      <td>0</td>\n",
       "      <td>0</td>\n",
       "      <td>0</td>\n",
       "      <td>135000.0</td>\n",
       "      <td>312682.5</td>\n",
       "      <td>29686.5</td>\n",
       "      <td>297000.0</td>\n",
       "      <td>248526.0</td>\n",
       "      <td>...</td>\n",
       "      <td>44632.816406</td>\n",
       "      <td>41626.031250</td>\n",
       "      <td>27858.203125</td>\n",
       "      <td>171000.000000</td>\n",
       "      <td>4996.267090</td>\n",
       "      <td>4558.888672</td>\n",
       "      <td>26644.955078</td>\n",
       "      <td>27533.273438</td>\n",
       "      <td>27533.273438</td>\n",
       "      <td>0.0</td>\n",
       "    </tr>\n",
       "    <tr>\n",
       "      <th>4</th>\n",
       "      <td>100007</td>\n",
       "      <td>0</td>\n",
       "      <td>0</td>\n",
       "      <td>0</td>\n",
       "      <td>0</td>\n",
       "      <td>121500.0</td>\n",
       "      <td>513000.0</td>\n",
       "      <td>21865.5</td>\n",
       "      <td>513000.0</td>\n",
       "      <td>248526.0</td>\n",
       "      <td>...</td>\n",
       "      <td>102297.515625</td>\n",
       "      <td>101564.226562</td>\n",
       "      <td>101208.390625</td>\n",
       "      <td>101250.000000</td>\n",
       "      <td>11736.103516</td>\n",
       "      <td>367.753510</td>\n",
       "      <td>88407.226562</td>\n",
       "      <td>98558.921875</td>\n",
       "      <td>98558.921875</td>\n",
       "      <td>0.0</td>\n",
       "    </tr>\n",
       "  </tbody>\n",
       "</table>\n",
       "<p>5 rows × 79 columns</p>\n",
       "</div>"
      ],
      "text/plain": [
       "   SK_ID_CURR  NAME_CONTRACT_TYPE  FLAG_OWN_CAR  FLAG_OWN_REALTY  \\\n",
       "0      100002                   0             0                0   \n",
       "1      100003                   0             0                1   \n",
       "2      100004                   1             1                0   \n",
       "3      100006                   0             0                0   \n",
       "4      100007                   0             0                0   \n",
       "\n",
       "   CNT_CHILDREN  AMT_INCOME_TOTAL  AMT_CREDIT  AMT_ANNUITY  AMT_GOODS_PRICE  \\\n",
       "0             0          202500.0    406597.5      24700.5         351000.0   \n",
       "1             0          270000.0   1293502.5      35698.5        1129500.0   \n",
       "2             0           67500.0    135000.0       6750.0         135000.0   \n",
       "3             0          135000.0    312682.5      29686.5         297000.0   \n",
       "4             0          121500.0    513000.0      21865.5         513000.0   \n",
       "\n",
       "   NAME_TYPE_SUITE  ...  Prev_IP_AMT_INSTALMENT  Prev_IP_AMT_PAYMENT  \\\n",
       "0         248526.0  ...            21081.261719         21081.261719   \n",
       "1          40149.0  ...            23136.941406         23136.941406   \n",
       "2         248526.0  ...            11450.142578         11450.142578   \n",
       "3         248526.0  ...            44632.816406         41626.031250   \n",
       "4         248526.0  ...           102297.515625        101564.226562   \n",
       "\n",
       "   Prev_CCB_AMT_BALANCE  Prev_CCB_AMT_CREDIT_LIMIT_ACTUAL  \\\n",
       "0          27858.203125                     171000.000000   \n",
       "1          14996.948242                     137903.218750   \n",
       "2          10685.238281                      82025.320312   \n",
       "3          27858.203125                     171000.000000   \n",
       "4         101208.390625                     101250.000000   \n",
       "\n",
       "   Prev_CCB_AMT_DRAWINGS_CURRENT  Prev_CCB_AMT_PAYMENT_TOTAL_CURRENT  \\\n",
       "0                    4996.267090                         4558.888672   \n",
       "1                    9184.992188                         9456.458008   \n",
       "2                    1090.424072                         1530.968384   \n",
       "3                    4996.267090                         4558.888672   \n",
       "4                   11736.103516                          367.753510   \n",
       "\n",
       "   Prev_CCB_AMT_RECEIVABLE_PRINCIPAL  Prev_CCB_AMT_RECIVABLE  \\\n",
       "0                       26644.955078            27533.273438   \n",
       "1                       14305.061523            14548.675781   \n",
       "2                       10255.441406            10597.750977   \n",
       "3                       26644.955078            27533.273438   \n",
       "4                       88407.226562            98558.921875   \n",
       "\n",
       "   Prev_CCB_AMT_TOTAL_RECEIVABLE  TARGET  \n",
       "0                   27533.273438     1.0  \n",
       "1                   14548.675781     0.0  \n",
       "2                   10597.750977     0.0  \n",
       "3                   27533.273438     0.0  \n",
       "4                   98558.921875     0.0  \n",
       "\n",
       "[5 rows x 79 columns]"
      ]
     },
     "execution_count": 7,
     "metadata": {},
     "output_type": "execute_result"
    }
   ],
   "source": [
    "data.head()"
   ]
  },
  {
   "cell_type": "code",
   "execution_count": 8,
   "metadata": {
    "id": "8Fe_I1ioQany"
   },
   "outputs": [],
   "source": [
    "#split ke data training dan testing\n",
    "data_train = data[:307511]\n",
    "data_test = data[307511:]"
   ]
  },
  {
   "cell_type": "code",
   "execution_count": 9,
   "metadata": {
    "id": "GiqhVIa6Qgqs"
   },
   "outputs": [],
   "source": [
    "data_train.drop(['SK_ID_CURR'], inplace=True, axis=1)"
   ]
  },
  {
   "cell_type": "code",
   "execution_count": 10,
   "metadata": {
    "colab": {
     "base_uri": "https://localhost:8080/",
     "height": 300
    },
    "id": "_RQJ_8olRWNz",
    "outputId": "95221491-5e9a-4238-a148-e21b43781640"
   },
   "outputs": [
    {
     "data": {
      "text/html": [
       "<div>\n",
       "<style scoped>\n",
       "    .dataframe tbody tr th:only-of-type {\n",
       "        vertical-align: middle;\n",
       "    }\n",
       "\n",
       "    .dataframe tbody tr th {\n",
       "        vertical-align: top;\n",
       "    }\n",
       "\n",
       "    .dataframe thead th {\n",
       "        text-align: right;\n",
       "    }\n",
       "</style>\n",
       "<table border=\"1\" class=\"dataframe\">\n",
       "  <thead>\n",
       "    <tr style=\"text-align: right;\">\n",
       "      <th></th>\n",
       "      <th>NAME_CONTRACT_TYPE</th>\n",
       "      <th>FLAG_OWN_CAR</th>\n",
       "      <th>FLAG_OWN_REALTY</th>\n",
       "      <th>CNT_CHILDREN</th>\n",
       "      <th>AMT_INCOME_TOTAL</th>\n",
       "      <th>AMT_CREDIT</th>\n",
       "      <th>AMT_ANNUITY</th>\n",
       "      <th>AMT_GOODS_PRICE</th>\n",
       "      <th>NAME_TYPE_SUITE</th>\n",
       "      <th>NAME_INCOME_TYPE</th>\n",
       "      <th>...</th>\n",
       "      <th>Prev_IP_AMT_INSTALMENT</th>\n",
       "      <th>Prev_IP_AMT_PAYMENT</th>\n",
       "      <th>Prev_CCB_AMT_BALANCE</th>\n",
       "      <th>Prev_CCB_AMT_CREDIT_LIMIT_ACTUAL</th>\n",
       "      <th>Prev_CCB_AMT_DRAWINGS_CURRENT</th>\n",
       "      <th>Prev_CCB_AMT_PAYMENT_TOTAL_CURRENT</th>\n",
       "      <th>Prev_CCB_AMT_RECEIVABLE_PRINCIPAL</th>\n",
       "      <th>Prev_CCB_AMT_RECIVABLE</th>\n",
       "      <th>Prev_CCB_AMT_TOTAL_RECEIVABLE</th>\n",
       "      <th>TARGET</th>\n",
       "    </tr>\n",
       "  </thead>\n",
       "  <tbody>\n",
       "    <tr>\n",
       "      <th>0</th>\n",
       "      <td>0</td>\n",
       "      <td>0</td>\n",
       "      <td>0</td>\n",
       "      <td>0</td>\n",
       "      <td>202500.0</td>\n",
       "      <td>406597.5</td>\n",
       "      <td>24700.5</td>\n",
       "      <td>351000.0</td>\n",
       "      <td>248526.0</td>\n",
       "      <td>158774.0</td>\n",
       "      <td>...</td>\n",
       "      <td>21081.261719</td>\n",
       "      <td>21081.261719</td>\n",
       "      <td>27858.203125</td>\n",
       "      <td>171000.000000</td>\n",
       "      <td>4996.267090</td>\n",
       "      <td>4558.888672</td>\n",
       "      <td>26644.955078</td>\n",
       "      <td>27533.273438</td>\n",
       "      <td>27533.273438</td>\n",
       "      <td>1.0</td>\n",
       "    </tr>\n",
       "    <tr>\n",
       "      <th>1</th>\n",
       "      <td>0</td>\n",
       "      <td>0</td>\n",
       "      <td>1</td>\n",
       "      <td>0</td>\n",
       "      <td>270000.0</td>\n",
       "      <td>1293502.5</td>\n",
       "      <td>35698.5</td>\n",
       "      <td>1129500.0</td>\n",
       "      <td>40149.0</td>\n",
       "      <td>21703.0</td>\n",
       "      <td>...</td>\n",
       "      <td>23136.941406</td>\n",
       "      <td>23136.941406</td>\n",
       "      <td>14996.948242</td>\n",
       "      <td>137903.218750</td>\n",
       "      <td>9184.992188</td>\n",
       "      <td>9456.458008</td>\n",
       "      <td>14305.061523</td>\n",
       "      <td>14548.675781</td>\n",
       "      <td>14548.675781</td>\n",
       "      <td>0.0</td>\n",
       "    </tr>\n",
       "    <tr>\n",
       "      <th>2</th>\n",
       "      <td>1</td>\n",
       "      <td>1</td>\n",
       "      <td>0</td>\n",
       "      <td>0</td>\n",
       "      <td>67500.0</td>\n",
       "      <td>135000.0</td>\n",
       "      <td>6750.0</td>\n",
       "      <td>135000.0</td>\n",
       "      <td>248526.0</td>\n",
       "      <td>158774.0</td>\n",
       "      <td>...</td>\n",
       "      <td>11450.142578</td>\n",
       "      <td>11450.142578</td>\n",
       "      <td>10685.238281</td>\n",
       "      <td>82025.320312</td>\n",
       "      <td>1090.424072</td>\n",
       "      <td>1530.968384</td>\n",
       "      <td>10255.441406</td>\n",
       "      <td>10597.750977</td>\n",
       "      <td>10597.750977</td>\n",
       "      <td>0.0</td>\n",
       "    </tr>\n",
       "    <tr>\n",
       "      <th>3</th>\n",
       "      <td>0</td>\n",
       "      <td>0</td>\n",
       "      <td>0</td>\n",
       "      <td>0</td>\n",
       "      <td>135000.0</td>\n",
       "      <td>312682.5</td>\n",
       "      <td>29686.5</td>\n",
       "      <td>297000.0</td>\n",
       "      <td>248526.0</td>\n",
       "      <td>158774.0</td>\n",
       "      <td>...</td>\n",
       "      <td>44632.816406</td>\n",
       "      <td>41626.031250</td>\n",
       "      <td>27858.203125</td>\n",
       "      <td>171000.000000</td>\n",
       "      <td>4996.267090</td>\n",
       "      <td>4558.888672</td>\n",
       "      <td>26644.955078</td>\n",
       "      <td>27533.273438</td>\n",
       "      <td>27533.273438</td>\n",
       "      <td>0.0</td>\n",
       "    </tr>\n",
       "    <tr>\n",
       "      <th>4</th>\n",
       "      <td>0</td>\n",
       "      <td>0</td>\n",
       "      <td>0</td>\n",
       "      <td>0</td>\n",
       "      <td>121500.0</td>\n",
       "      <td>513000.0</td>\n",
       "      <td>21865.5</td>\n",
       "      <td>513000.0</td>\n",
       "      <td>248526.0</td>\n",
       "      <td>158774.0</td>\n",
       "      <td>...</td>\n",
       "      <td>102297.515625</td>\n",
       "      <td>101564.226562</td>\n",
       "      <td>101208.390625</td>\n",
       "      <td>101250.000000</td>\n",
       "      <td>11736.103516</td>\n",
       "      <td>367.753510</td>\n",
       "      <td>88407.226562</td>\n",
       "      <td>98558.921875</td>\n",
       "      <td>98558.921875</td>\n",
       "      <td>0.0</td>\n",
       "    </tr>\n",
       "  </tbody>\n",
       "</table>\n",
       "<p>5 rows × 78 columns</p>\n",
       "</div>"
      ],
      "text/plain": [
       "   NAME_CONTRACT_TYPE  FLAG_OWN_CAR  FLAG_OWN_REALTY  CNT_CHILDREN  \\\n",
       "0                   0             0                0             0   \n",
       "1                   0             0                1             0   \n",
       "2                   1             1                0             0   \n",
       "3                   0             0                0             0   \n",
       "4                   0             0                0             0   \n",
       "\n",
       "   AMT_INCOME_TOTAL  AMT_CREDIT  AMT_ANNUITY  AMT_GOODS_PRICE  \\\n",
       "0          202500.0    406597.5      24700.5         351000.0   \n",
       "1          270000.0   1293502.5      35698.5        1129500.0   \n",
       "2           67500.0    135000.0       6750.0         135000.0   \n",
       "3          135000.0    312682.5      29686.5         297000.0   \n",
       "4          121500.0    513000.0      21865.5         513000.0   \n",
       "\n",
       "   NAME_TYPE_SUITE  NAME_INCOME_TYPE  ...  Prev_IP_AMT_INSTALMENT  \\\n",
       "0         248526.0          158774.0  ...            21081.261719   \n",
       "1          40149.0           21703.0  ...            23136.941406   \n",
       "2         248526.0          158774.0  ...            11450.142578   \n",
       "3         248526.0          158774.0  ...            44632.816406   \n",
       "4         248526.0          158774.0  ...           102297.515625   \n",
       "\n",
       "   Prev_IP_AMT_PAYMENT  Prev_CCB_AMT_BALANCE  \\\n",
       "0         21081.261719          27858.203125   \n",
       "1         23136.941406          14996.948242   \n",
       "2         11450.142578          10685.238281   \n",
       "3         41626.031250          27858.203125   \n",
       "4        101564.226562         101208.390625   \n",
       "\n",
       "   Prev_CCB_AMT_CREDIT_LIMIT_ACTUAL  Prev_CCB_AMT_DRAWINGS_CURRENT  \\\n",
       "0                     171000.000000                    4996.267090   \n",
       "1                     137903.218750                    9184.992188   \n",
       "2                      82025.320312                    1090.424072   \n",
       "3                     171000.000000                    4996.267090   \n",
       "4                     101250.000000                   11736.103516   \n",
       "\n",
       "   Prev_CCB_AMT_PAYMENT_TOTAL_CURRENT  Prev_CCB_AMT_RECEIVABLE_PRINCIPAL  \\\n",
       "0                         4558.888672                       26644.955078   \n",
       "1                         9456.458008                       14305.061523   \n",
       "2                         1530.968384                       10255.441406   \n",
       "3                         4558.888672                       26644.955078   \n",
       "4                          367.753510                       88407.226562   \n",
       "\n",
       "   Prev_CCB_AMT_RECIVABLE  Prev_CCB_AMT_TOTAL_RECEIVABLE  TARGET  \n",
       "0            27533.273438                   27533.273438     1.0  \n",
       "1            14548.675781                   14548.675781     0.0  \n",
       "2            10597.750977                   10597.750977     0.0  \n",
       "3            27533.273438                   27533.273438     0.0  \n",
       "4            98558.921875                   98558.921875     0.0  \n",
       "\n",
       "[5 rows x 78 columns]"
      ]
     },
     "execution_count": 10,
     "metadata": {},
     "output_type": "execute_result"
    }
   ],
   "source": [
    "data_train.head()"
   ]
  },
  {
   "cell_type": "code",
   "execution_count": 11,
   "metadata": {
    "colab": {
     "base_uri": "https://localhost:8080/"
    },
    "id": "iKEb25iRTS4J",
    "outputId": "2ae1b70f-fb6e-46fc-9023-16b6df19b8d5"
   },
   "outputs": [
    {
     "name": "stdout",
     "output_type": "stream",
     "text": [
      "<class 'pandas.core.frame.DataFrame'>\n",
      "RangeIndex: 307511 entries, 0 to 307510\n",
      "Data columns (total 78 columns):\n",
      " #   Column                              Non-Null Count   Dtype  \n",
      "---  ------                              --------------   -----  \n",
      " 0   NAME_CONTRACT_TYPE                  307511 non-null  int8   \n",
      " 1   FLAG_OWN_CAR                        307511 non-null  int8   \n",
      " 2   FLAG_OWN_REALTY                     307511 non-null  int8   \n",
      " 3   CNT_CHILDREN                        307511 non-null  int8   \n",
      " 4   AMT_INCOME_TOTAL                    307511 non-null  float32\n",
      " 5   AMT_CREDIT                          307511 non-null  float32\n",
      " 6   AMT_ANNUITY                         307511 non-null  float32\n",
      " 7   AMT_GOODS_PRICE                     307511 non-null  float32\n",
      " 8   NAME_TYPE_SUITE                     307511 non-null  float32\n",
      " 9   NAME_INCOME_TYPE                    307511 non-null  float32\n",
      " 10  NAME_EDUCATION_TYPE                 307511 non-null  int32  \n",
      " 11  NAME_FAMILY_STATUS                  307511 non-null  float32\n",
      " 12  NAME_HOUSING_TYPE                   307511 non-null  int32  \n",
      " 13  DAYS_BIRTH                          307511 non-null  int16  \n",
      " 14  DAYS_EMPLOYED                       307511 non-null  int32  \n",
      " 15  DAYS_ID_PUBLISH                     307511 non-null  int16  \n",
      " 16  FLAG_EMP_PHONE                      307511 non-null  int8   \n",
      " 17  FLAG_WORK_PHONE                     307511 non-null  int8   \n",
      " 18  FLAG_CONT_MOBILE                    307511 non-null  int8   \n",
      " 19  FLAG_PHONE                          307511 non-null  int8   \n",
      " 20  FLAG_EMAIL                          307511 non-null  int8   \n",
      " 21  REGION_RATING_CLIENT                307511 non-null  int8   \n",
      " 22  REGION_RATING_CLIENT_W_CITY         307511 non-null  int8   \n",
      " 23  WEEKDAY_APPR_PROCESS_START          307511 non-null  int32  \n",
      " 24  HOUR_APPR_PROCESS_START             307511 non-null  int8   \n",
      " 25  REG_REGION_NOT_LIVE_REGION          307511 non-null  int8   \n",
      " 26  REG_REGION_NOT_WORK_REGION          307511 non-null  int8   \n",
      " 27  LIVE_REGION_NOT_WORK_REGION         307511 non-null  int8   \n",
      " 28  REG_CITY_NOT_LIVE_CITY              307511 non-null  int8   \n",
      " 29  REG_CITY_NOT_WORK_CITY              307511 non-null  int8   \n",
      " 30  LIVE_CITY_NOT_WORK_CITY             307511 non-null  int8   \n",
      " 31  ORGANIZATION_TYPE                   307511 non-null  int32  \n",
      " 32  FONDKAPREMONT_MODE                  307511 non-null  float32\n",
      " 33  HOUSETYPE_MODE                      307511 non-null  float32\n",
      " 34  WALLSMATERIAL_MODE                  307511 non-null  float32\n",
      " 35  FLAG_DOCUMENT_3                     307511 non-null  int8   \n",
      " 36  FLAG_DOCUMENT_5                     307511 non-null  int8   \n",
      " 37  FLAG_DOCUMENT_6                     307511 non-null  int8   \n",
      " 38  FLAG_DOCUMENT_7                     307511 non-null  int8   \n",
      " 39  FLAG_DOCUMENT_8                     307511 non-null  int8   \n",
      " 40  FLAG_DOCUMENT_9                     307511 non-null  int8   \n",
      " 41  FLAG_DOCUMENT_11                    307511 non-null  int8   \n",
      " 42  FLAG_DOCUMENT_13                    307511 non-null  int8   \n",
      " 43  FLAG_DOCUMENT_14                    307511 non-null  int8   \n",
      " 44  FLAG_DOCUMENT_15                    307511 non-null  int8   \n",
      " 45  FLAG_DOCUMENT_16                    307511 non-null  int8   \n",
      " 46  FLAG_DOCUMENT_17                    307511 non-null  int8   \n",
      " 47  FLAG_DOCUMENT_18                    307511 non-null  int8   \n",
      " 48  FLAG_DOCUMENT_19                    307511 non-null  int8   \n",
      " 49  FLAG_DOCUMENT_20                    307511 non-null  int8   \n",
      " 50  FLAG_DOCUMENT_21                    307511 non-null  int8   \n",
      " 51  Bureau_AMT_CREDIT_MAX_OVERDUE       307511 non-null  float32\n",
      " 52  Bureau_AMT_CREDIT_SUM               307511 non-null  float32\n",
      " 53  Bureau_AMT_CREDIT_SUM_DEBT          307511 non-null  float32\n",
      " 54  Bureau_AMT_CREDIT_SUM_LIMIT         307511 non-null  float32\n",
      " 55  Bureau_AMT_CREDIT_SUM_OVERDUE       307511 non-null  float32\n",
      " 56  Bureau_AMT_ANNUITY                  307511 non-null  float32\n",
      " 57  Prev_AMT_ANNUITY                    307511 non-null  float32\n",
      " 58  Prev_AMT_APPLICATION                307511 non-null  float32\n",
      " 59  Prev_AMT_CREDIT                     307511 non-null  float32\n",
      " 60  Prev_AMT_DOWN_PAYMENT               307511 non-null  float32\n",
      " 61  Prev_AMT_GOODS_PRICE                307511 non-null  float32\n",
      " 62  Prev_SELLERPLACE_AREA               307511 non-null  float32\n",
      " 63  Prev_DAYS_FIRST_DRAWING             307511 non-null  float32\n",
      " 64  Prev_DAYS_FIRST_DUE                 307511 non-null  float32\n",
      " 65  Prev_DAYS_LAST_DUE_1ST_VERSION      307511 non-null  float32\n",
      " 66  Prev_DAYS_LAST_DUE                  307511 non-null  float32\n",
      " 67  Prev_DAYS_TERMINATION               307511 non-null  float32\n",
      " 68  Prev_IP_AMT_INSTALMENT              307511 non-null  float32\n",
      " 69  Prev_IP_AMT_PAYMENT                 307511 non-null  float32\n",
      " 70  Prev_CCB_AMT_BALANCE                307511 non-null  float32\n",
      " 71  Prev_CCB_AMT_CREDIT_LIMIT_ACTUAL    307511 non-null  float32\n",
      " 72  Prev_CCB_AMT_DRAWINGS_CURRENT       307511 non-null  float32\n",
      " 73  Prev_CCB_AMT_PAYMENT_TOTAL_CURRENT  307511 non-null  float32\n",
      " 74  Prev_CCB_AMT_RECEIVABLE_PRINCIPAL   307511 non-null  float32\n",
      " 75  Prev_CCB_AMT_RECIVABLE              307511 non-null  float32\n",
      " 76  Prev_CCB_AMT_TOTAL_RECEIVABLE       307511 non-null  float32\n",
      " 77  TARGET                              307511 non-null  float16\n",
      "dtypes: float16(1), float32(36), int16(2), int32(5), int8(34)\n",
      "memory usage: 59.8 MB\n"
     ]
    }
   ],
   "source": [
    "data_train.info()"
   ]
  },
  {
   "cell_type": "markdown",
   "metadata": {
    "id": "w4vjVobARkDW"
   },
   "source": [
    "\n",
    "**Convert Negative Values to Positive Values**\n",
    "\n",
    "The features that have negative values are DAYS_BIRTH, DAYS_EMPLOYED, DAYS_ID_PUBLISH, DAYS_REGISTRATION, and DAYS_LAST_PHONE_CHANGE\n"
   ]
  },
  {
   "cell_type": "code",
   "execution_count": 12,
   "metadata": {
    "id": "ejtED7D7RbpX"
   },
   "outputs": [],
   "source": [
    "data_train.iloc[:,:79] = data_train.iloc[:,:79].abs()"
   ]
  },
  {
   "cell_type": "code",
   "execution_count": 13,
   "metadata": {
    "id": "LBZk4lOFRv-g"
   },
   "outputs": [],
   "source": [
    "#Feature Selection\n",
    "x = data_train.drop(['TARGET'], axis=1)\n",
    "y = data_train['TARGET']"
   ]
  },
  {
   "cell_type": "code",
   "execution_count": 14,
   "metadata": {
    "colab": {
     "base_uri": "https://localhost:8080/",
     "height": 461
    },
    "id": "V1XYj2e8R_oM",
    "outputId": "43de10c9-0625-4e8f-e6c7-8f293b8c4c79"
   },
   "outputs": [
    {
     "name": "stdout",
     "output_type": "stream",
     "text": [
      "The features that correlate well with target feature:\n",
      "\n"
     ]
    },
    {
     "data": {
      "text/html": [
       "<div>\n",
       "<style scoped>\n",
       "    .dataframe tbody tr th:only-of-type {\n",
       "        vertical-align: middle;\n",
       "    }\n",
       "\n",
       "    .dataframe tbody tr th {\n",
       "        vertical-align: top;\n",
       "    }\n",
       "\n",
       "    .dataframe thead th {\n",
       "        text-align: right;\n",
       "    }\n",
       "</style>\n",
       "<table border=\"1\" class=\"dataframe\">\n",
       "  <thead>\n",
       "    <tr style=\"text-align: right;\">\n",
       "      <th></th>\n",
       "      <th>Features</th>\n",
       "      <th>Score</th>\n",
       "    </tr>\n",
       "  </thead>\n",
       "  <tbody>\n",
       "    <tr>\n",
       "      <th>14</th>\n",
       "      <td>DAYS_EMPLOYED</td>\n",
       "      <td>1.954124e+08</td>\n",
       "    </tr>\n",
       "    <tr>\n",
       "      <th>7</th>\n",
       "      <td>AMT_GOODS_PRICE</td>\n",
       "      <td>1.223080e+08</td>\n",
       "    </tr>\n",
       "    <tr>\n",
       "      <th>5</th>\n",
       "      <td>AMT_CREDIT</td>\n",
       "      <td>7.669987e+07</td>\n",
       "    </tr>\n",
       "    <tr>\n",
       "      <th>9</th>\n",
       "      <td>NAME_INCOME_TYPE</td>\n",
       "      <td>2.665760e+07</td>\n",
       "    </tr>\n",
       "    <tr>\n",
       "      <th>10</th>\n",
       "      <td>NAME_EDUCATION_TYPE</td>\n",
       "      <td>1.732433e+07</td>\n",
       "    </tr>\n",
       "    <tr>\n",
       "      <th>...</th>\n",
       "      <td>...</td>\n",
       "      <td>...</td>\n",
       "    </tr>\n",
       "    <tr>\n",
       "      <th>38</th>\n",
       "      <td>FLAG_DOCUMENT_7</td>\n",
       "      <td>7.098728e-01</td>\n",
       "    </tr>\n",
       "    <tr>\n",
       "      <th>48</th>\n",
       "      <td>FLAG_DOCUMENT_19</td>\n",
       "      <td>5.663612e-01</td>\n",
       "    </tr>\n",
       "    <tr>\n",
       "      <th>36</th>\n",
       "      <td>FLAG_DOCUMENT_5</td>\n",
       "      <td>3.020010e-02</td>\n",
       "    </tr>\n",
       "    <tr>\n",
       "      <th>49</th>\n",
       "      <td>FLAG_DOCUMENT_20</td>\n",
       "      <td>1.425955e-02</td>\n",
       "    </tr>\n",
       "    <tr>\n",
       "      <th>18</th>\n",
       "      <td>FLAG_CONT_MOBILE</td>\n",
       "      <td>7.863447e-05</td>\n",
       "    </tr>\n",
       "  </tbody>\n",
       "</table>\n",
       "<p>77 rows × 2 columns</p>\n",
       "</div>"
      ],
      "text/plain": [
       "               Features         Score\n",
       "14        DAYS_EMPLOYED  1.954124e+08\n",
       "7       AMT_GOODS_PRICE  1.223080e+08\n",
       "5            AMT_CREDIT  7.669987e+07\n",
       "9      NAME_INCOME_TYPE  2.665760e+07\n",
       "10  NAME_EDUCATION_TYPE  1.732433e+07\n",
       "..                  ...           ...\n",
       "38      FLAG_DOCUMENT_7  7.098728e-01\n",
       "48     FLAG_DOCUMENT_19  5.663612e-01\n",
       "36      FLAG_DOCUMENT_5  3.020010e-02\n",
       "49     FLAG_DOCUMENT_20  1.425955e-02\n",
       "18     FLAG_CONT_MOBILE  7.863447e-05\n",
       "\n",
       "[77 rows x 2 columns]"
      ]
     },
     "execution_count": 14,
     "metadata": {},
     "output_type": "execute_result"
    }
   ],
   "source": [
    "#feature selection\n",
    "bestfeatures = SelectKBest(score_func=chi2, k=10)\n",
    "fit = bestfeatures.fit(x,y)\n",
    "dfscores = pd.DataFrame(fit.scores_)\n",
    "dfcolumns = pd.DataFrame(x.columns)\n",
    "featureScores = pd.concat([dfcolumns, dfscores], axis = 1)\n",
    "featureScores.columns = ['Features', 'Score']\n",
    "print('The features that correlate well with target feature:\\n')\n",
    "featureScores.sort_values(by=['Score'], ascending=False)"
   ]
  },
  {
   "cell_type": "markdown",
   "metadata": {
    "id": "HV2OHVfAUrxg"
   },
   "source": [
    "Handling Imbalance Data"
   ]
  },
  {
   "cell_type": "code",
   "execution_count": 15,
   "metadata": {
    "id": "dxmcA-FOSJQ7"
   },
   "outputs": [],
   "source": [
    "# create two different dataframe of majority and minority class \n",
    "df_majority = data_train[(data_train['TARGET']==0)] \n",
    "df_minority = data_train[(data_train['TARGET']==1)] \n",
    "\n",
    "# upsample minority class\n",
    "df_minority_upsampled = resample(df_minority, \n",
    "                                 replace=True,    # sample with replacement\n",
    "                                 n_samples= 282686, # to match majority class\n",
    "                                 random_state=42)  # reproducible results\n",
    "\n",
    "# combine majority class with upsampled minority class\n",
    "df_upsampled = pd.concat([df_minority_upsampled, df_majority])"
   ]
  },
  {
   "cell_type": "code",
   "execution_count": 16,
   "metadata": {
    "colab": {
     "base_uri": "https://localhost:8080/",
     "height": 494
    },
    "id": "pXGMH8xwVBit",
    "outputId": "d2834b4e-e812-4ea7-b9cb-ea14d078705b"
   },
   "outputs": [
    {
     "data": {
      "image/png": "[encoded data removed]",
      "text/plain": [
       "<Figure size 864x504 with 1 Axes>"
      ]
     },
     "metadata": {
      "needs_background": "light"
     },
     "output_type": "display_data"
    }
   ],
   "source": [
    "fig = plt.figure(figsize = (12,7))\n",
    "df_upsampled['TARGET'].value_counts(normalize=True).plot(kind='bar', color= ['midnightblue','lightgrey'], alpha = 0.9, rot=0)\n",
    "plt.title('The Distribution of Clients Repayment Abilities\\n', fontsize=14)\n",
    "plt.ylabel('Percentage of the Customers\\n', fontsize=12)\n",
    "plt.xlabel('\\nPayment Difficulty Status', fontsize=12)\n",
    "plt.show()"
   ]
  },
  {
   "cell_type": "markdown",
   "metadata": {
    "id": "a_cbsSHNVOab"
   },
   "source": [
    "Data Splitting"
   ]
  },
  {
   "cell_type": "code",
   "execution_count": 17,
   "metadata": {
    "id": "J4gu0y6FVEoR"
   },
   "outputs": [],
   "source": [
    "# define x and y features (top 20 features)\n",
    "x_balanced = df_upsampled[['DAYS_EMPLOYED', 'AMT_GOODS_PRICE', 'AMT_CREDIT', \n",
    "                           'NAME_INCOME_TYPE', 'NAME_EDUCATION_TYPE', 'NAME_FAMILY_STATUS', \n",
    "                           'NAME_HOUSING_TYPE', 'DAYS_BIRTH', 'AMT_INCOME_TOTAL', \n",
    "                           'Bureau_AMT_CREDIT_SUM_DEBT', 'DAYS_ID_PUBLISH', 'NAME_TYPE_SUITE',\n",
    "                          'Bureau_AMT_CREDIT_SUM_OVERDUE', 'AMT_ANNUITY', 'FONDKAPREMONT_MODE', 'Bureau_AMT_CREDIT_MAX_OVERDUE',\n",
    "                          'Bureau_AMT_CREDIT_SUM', 'Prev_CCB_AMT_DRAWINGS_CURRENT', 'Bureau_AMT_ANNUITY', 'Prev_CCB_AMT_PAYMENT_TOTAL_CURRENT']]\n",
    "y_balanced = df_upsampled['TARGET']"
   ]
  },
  {
   "cell_type": "code",
   "execution_count": 18,
   "metadata": {
    "colab": {
     "base_uri": "https://localhost:8080/"
    },
    "id": "M1TUup4z4BG6",
    "outputId": "50ad4dd1-c0e6-415b-ae29-215e8b4214d9"
   },
   "outputs": [
    {
     "name": "stdout",
     "output_type": "stream",
     "text": [
      "(452297, 20) (113075, 20)\n"
     ]
    }
   ],
   "source": [
    "# splitting tha data\n",
    "X_train, X_test, y_train, y_test = train_test_split(x_balanced, y_balanced, test_size=0.2, random_state=42)\n",
    "print(X_train.shape, X_test.shape)"
   ]
  },
  {
   "cell_type": "code",
   "execution_count": 19,
   "metadata": {
    "id": "OTpjW_0g4Cif"
   },
   "outputs": [],
   "source": [
    "# normalize features\n",
    "scaler = StandardScaler()\n",
    "X_train = scaler.fit_transform(X_train)\n",
    "X_test = scaler.fit_transform(X_test)"
   ]
  },
  {
   "cell_type": "markdown",
   "metadata": {
    "id": "XoIIgTNu4bU8"
   },
   "source": [
    "\n",
    "**Model Building**\n",
    "\n",
    "Here are some algorithms that will be tested to determine the best model:\n",
    "\n",
    "1. Logistic Regression\n",
    "2. Gaussian Naive Bayes\n",
    "3. Decision Tree\n",
    "4. Random Forest\n",
    "5. Neural Network\n",
    "\n"
   ]
  },
  {
   "cell_type": "markdown",
   "metadata": {
    "id": "nFMHcYnl4m48"
   },
   "source": [
    "1. Logistic Regression"
   ]
  },
  {
   "cell_type": "code",
   "execution_count": 20,
   "metadata": {
    "colab": {
     "base_uri": "https://localhost:8080/"
    },
    "id": "-9ZAzIsK4q_A",
    "outputId": "bee430a8-7035-495f-a0c8-4b63b251009f"
   },
   "outputs": [
    {
     "name": "stdout",
     "output_type": "stream",
     "text": [
      "LogisticRegression()\n"
     ]
    }
   ],
   "source": [
    "# train the model\n",
    "log_model = LogisticRegression().fit(X_train, y_train)\n",
    "print(log_model)"
   ]
  },
  {
   "cell_type": "code",
   "execution_count": 21,
   "metadata": {
    "colab": {
     "base_uri": "https://localhost:8080/"
    },
    "id": "4XQPVEPS4vGi",
    "outputId": "8e52621a-8cd0-4cfc-ec9b-e27028a4cf73"
   },
   "outputs": [
    {
     "name": "stdout",
     "output_type": "stream",
     "text": [
      "Classification Report Training Model (Logistic Regression):\n",
      "              precision    recall  f1-score   support\n",
      "\n",
      "         0.0       0.60      0.58      0.59    226185\n",
      "         1.0       0.60      0.61      0.61    226112\n",
      "\n",
      "    accuracy                           0.60    452297\n",
      "   macro avg       0.60      0.60      0.60    452297\n",
      "weighted avg       0.60      0.60      0.60    452297\n",
      "\n"
     ]
    }
   ],
   "source": [
    "# predict data train\n",
    "y_train_pred_log = log_model.predict(X_train)\n",
    "\n",
    "# print classification report\n",
    "print('Classification Report Training Model (Logistic Regression):')\n",
    "print(classification_report(y_train, y_train_pred_log))"
   ]
  },
  {
   "cell_type": "code",
   "execution_count": 22,
   "metadata": {
    "colab": {
     "base_uri": "https://localhost:8080/",
     "height": 349
    },
    "id": "YHYYbEgo4xSk",
    "outputId": "4cf1b26a-05f4-4df2-ebf9-cbdf130aa861"
   },
   "outputs": [
    {
     "data": {
      "image/png": "[encoded data removed]",
      "text/plain": [
       "<Figure size 432x288 with 2 Axes>"
      ]
     },
     "metadata": {
      "needs_background": "light"
     },
     "output_type": "display_data"
    }
   ],
   "source": [
    "# form confusion matrix as a dataFrame\n",
    "confusion_matrix_log = pd.DataFrame((confusion_matrix(y_train, y_train_pred_log)), ('No Payment Difficulties', 'Payment Difficulties'), ('No Payment Difficulties', 'Payment Difficulties'))\n",
    "\n",
    "# plot confusion matrix\n",
    "plt.figure()\n",
    "heatmap = sns.heatmap(confusion_matrix_log, annot=True, annot_kws={'size': 14}, fmt='d', cmap='bone_r')\n",
    "heatmap.yaxis.set_ticklabels(heatmap.yaxis.get_ticklabels(), rotation=0, ha='right', fontsize=14)\n",
    "heatmap.xaxis.set_ticklabels(heatmap.xaxis.get_ticklabels(), rotation=0, ha='right', fontsize=14)\n",
    "\n",
    "plt.title('Confusion Matrix for Training Model\\n(Logistic Regression)\\n', fontsize=18, color='black')\n",
    "plt.ylabel('True label', fontsize=14)\n",
    "plt.xlabel('Predicted label', fontsize=14)\n",
    "plt.show()"
   ]
  },
  {
   "cell_type": "code",
   "execution_count": 23,
   "metadata": {
    "colab": {
     "base_uri": "https://localhost:8080/"
    },
    "id": "tir0pNsT4zw0",
    "outputId": "7e562a08-53a8-4648-d880-d83df520eb8e"
   },
   "outputs": [
    {
     "name": "stdout",
     "output_type": "stream",
     "text": [
      "Classification Report Testing Model (Logistic Regression):\n",
      "              precision    recall  f1-score   support\n",
      "\n",
      "         0.0       0.60      0.58      0.59     56501\n",
      "         1.0       0.60      0.62      0.61     56574\n",
      "\n",
      "    accuracy                           0.60    113075\n",
      "   macro avg       0.60      0.60      0.60    113075\n",
      "weighted avg       0.60      0.60      0.60    113075\n",
      "\n"
     ]
    }
   ],
   "source": [
    "# predict data test\n",
    "y_test_pred_log = log_model.predict(X_test)\n",
    "\n",
    "# print classification report\n",
    "print('Classification Report Testing Model (Logistic Regression):')\n",
    "print(classification_report(y_test, y_test_pred_log))"
   ]
  },
  {
   "cell_type": "code",
   "execution_count": 24,
   "metadata": {
    "colab": {
     "base_uri": "https://localhost:8080/",
     "height": 349
    },
    "id": "qNOdRhfn41-O",
    "outputId": "12589e66-86b7-46b2-c136-9ca9ce7a2682"
   },
   "outputs": [
    {
     "data": {
      "image/png": "[encoded data removed]",
      "text/plain": [
       "<Figure size 432x288 with 2 Axes>"
      ]
     },
     "metadata": {
      "needs_background": "light"
     },
     "output_type": "display_data"
    }
   ],
   "source": [
    "# form confusion matrix as a dataFrame\n",
    "confusion_matrix_log = pd.DataFrame((confusion_matrix(y_test, y_test_pred_log)), ('No Payment Difficulties', 'Payment Difficulties'), ('No Payment Difficulties', 'Payment Difficulties'))\n",
    "\n",
    "# plot confusion matrix\n",
    "plt.figure()\n",
    "heatmap = sns.heatmap(confusion_matrix_log, annot=True, annot_kws={'size': 14}, fmt='d', cmap='bone_r')\n",
    "heatmap.yaxis.set_ticklabels(heatmap.yaxis.get_ticklabels(), rotation=0, ha='right', fontsize=14)\n",
    "heatmap.xaxis.set_ticklabels(heatmap.xaxis.get_ticklabels(), rotation=0, ha='right', fontsize=14)\n",
    "\n",
    "plt.title('Confusion Matrix for Testing Model\\n(Logistic Regression)\\n', fontsize=18, color='black')\n",
    "plt.ylabel('True label', fontsize=14)\n",
    "plt.xlabel('Predicted label', fontsize=14)\n",
    "plt.show()"
   ]
  },
  {
   "cell_type": "code",
   "execution_count": 25,
   "metadata": {
    "colab": {
     "base_uri": "https://localhost:8080/"
    },
    "id": "5mG1WQkw44GG",
    "outputId": "c1397c3a-af72-45bc-c036-a03dadd4c171"
   },
   "outputs": [
    {
     "name": "stdout",
     "output_type": "stream",
     "text": [
      "Training Accuracy: % 59.93\n",
      "Test Accuracy: % 60.07\n"
     ]
    }
   ],
   "source": [
    "acc_log_train=round(log_model.score(X_train,y_train)*100,2)\n",
    "acc_log_test=round(log_model.score(X_test,y_test)*100,2)\n",
    "print(\"Training Accuracy: % {}\".format(acc_log_train))\n",
    "print(\"Test Accuracy: % {}\".format(acc_log_test))"
   ]
  },
  {
   "cell_type": "code",
   "execution_count": 26,
   "metadata": {
    "colab": {
     "base_uri": "https://localhost:8080/"
    },
    "id": "xP5xXLgn48M7",
    "outputId": "0ebdcbf6-756d-4f75-dd9b-a48eed17ccfe"
   },
   "outputs": [
    {
     "name": "stdout",
     "output_type": "stream",
     "text": [
      "ROC AUC: 0.6007\n"
     ]
    }
   ],
   "source": [
    "# ROC scores\n",
    "roc_auc_log = round(roc_auc_score(y_test, y_test_pred_log),4)\n",
    "print('ROC AUC:', roc_auc_log)"
   ]
  },
  {
   "cell_type": "markdown",
   "metadata": {
    "id": "rF61HYol6Zn8"
   },
   "source": [
    "\n",
    "2. Gaussian Naive Bayes"
   ]
  },
  {
   "cell_type": "code",
   "execution_count": 27,
   "metadata": {
    "colab": {
     "base_uri": "https://localhost:8080/"
    },
    "id": "c8cvMiyx6jBc",
    "outputId": "4ce79565-40a9-4983-dba2-3620ca0b79ca"
   },
   "outputs": [
    {
     "name": "stdout",
     "output_type": "stream",
     "text": [
      "GaussianNB()\n"
     ]
    }
   ],
   "source": [
    "# train the model\n",
    "gnb_model = GaussianNB().fit(X_train, y_train)\n",
    "print(gnb_model)"
   ]
  },
  {
   "cell_type": "code",
   "execution_count": 28,
   "metadata": {
    "colab": {
     "base_uri": "https://localhost:8080/"
    },
    "id": "VFWzO1Ia6nGz",
    "outputId": "76efc73f-cdf0-4441-e25a-9c8d275c9463"
   },
   "outputs": [
    {
     "name": "stdout",
     "output_type": "stream",
     "text": [
      "Classification Report Training Model (Gaussian Naive Bayes):\n",
      "              precision    recall  f1-score   support\n",
      "\n",
      "         0.0       0.62      0.26      0.37    226185\n",
      "         1.0       0.53      0.84      0.65    226112\n",
      "\n",
      "    accuracy                           0.55    452297\n",
      "   macro avg       0.58      0.55      0.51    452297\n",
      "weighted avg       0.58      0.55      0.51    452297\n",
      "\n"
     ]
    }
   ],
   "source": [
    "# predict data train\n",
    "y_train_pred_gnb = gnb_model.predict(X_train)\n",
    "\n",
    "# print classification report\n",
    "print('Classification Report Training Model (Gaussian Naive Bayes):')\n",
    "print(classification_report(y_train, y_train_pred_gnb))"
   ]
  },
  {
   "cell_type": "code",
   "execution_count": 29,
   "metadata": {
    "colab": {
     "base_uri": "https://localhost:8080/",
     "height": 349
    },
    "id": "FCz7SUjP6q3-",
    "outputId": "ddf6ecc3-7adb-41be-a4a3-221825a7cfb2"
   },
   "outputs": [
    {
     "data": {
      "image/png": "[encoded data removed]",
      "text/plain": [
       "<Figure size 432x288 with 2 Axes>"
      ]
     },
     "metadata": {
      "needs_background": "light"
     },
     "output_type": "display_data"
    }
   ],
   "source": [
    "# form confusion matrix as a dataFrame\n",
    "confusion_matrix_gnb = pd.DataFrame((confusion_matrix(y_train, y_train_pred_gnb)), ('No Payment Difficulties', 'Payment Difficulties'), ('No Payment Difficulties', 'Payment Difficulties'))\n",
    "\n",
    "# plot confusion matrix\n",
    "plt.figure()\n",
    "heatmap = sns.heatmap(confusion_matrix_gnb, annot=True, annot_kws={'size': 14}, fmt='d', cmap='bone_r')\n",
    "heatmap.yaxis.set_ticklabels(heatmap.yaxis.get_ticklabels(), rotation=0, ha='right', fontsize=14)\n",
    "heatmap.xaxis.set_ticklabels(heatmap.xaxis.get_ticklabels(), rotation=0, ha='right', fontsize=14)\n",
    "\n",
    "plt.title('Confusion Matrix for Training Model\\n(Gaussian Naive Bayes)\\n', fontsize=18, color='black')\n",
    "plt.ylabel('True label', fontsize=14)\n",
    "plt.xlabel('Predicted label', fontsize=14)\n",
    "plt.show()"
   ]
  },
  {
   "cell_type": "code",
   "execution_count": 30,
   "metadata": {
    "colab": {
     "base_uri": "https://localhost:8080/"
    },
    "id": "GJIRM_qs6voC",
    "outputId": "8384f61a-1d13-410f-afb4-d46f022ba6cf"
   },
   "outputs": [
    {
     "name": "stdout",
     "output_type": "stream",
     "text": [
      "Classification Report Testing Model (Gaussian Naive Bayes):\n",
      "              precision    recall  f1-score   support\n",
      "\n",
      "         0.0       0.62      0.26      0.37     56501\n",
      "         1.0       0.53      0.84      0.65     56574\n",
      "\n",
      "    accuracy                           0.55    113075\n",
      "   macro avg       0.58      0.55      0.51    113075\n",
      "weighted avg       0.58      0.55      0.51    113075\n",
      "\n"
     ]
    }
   ],
   "source": [
    "# predict data test\n",
    "y_test_pred_gnb = gnb_model.predict(X_test)\n",
    "\n",
    "# print classification report\n",
    "print('Classification Report Testing Model (Gaussian Naive Bayes):')\n",
    "print(classification_report(y_test, y_test_pred_gnb))"
   ]
  },
  {
   "cell_type": "code",
   "execution_count": 31,
   "metadata": {
    "colab": {
     "base_uri": "https://localhost:8080/",
     "height": 349
    },
    "id": "VfYXhnzt6zMv",
    "outputId": "c0913f50-75cf-4558-ca4f-71bac6d1568b"
   },
   "outputs": [
    {
     "data": {
      "image/png": "[encoded data removed]",
      "text/plain": [
       "<Figure size 432x288 with 2 Axes>"
      ]
     },
     "metadata": {
      "needs_background": "light"
     },
     "output_type": "display_data"
    }
   ],
   "source": [
    "# form confusion matrix as a dataFrame\n",
    "confusion_matrix_gnb = pd.DataFrame((confusion_matrix(y_test, y_test_pred_gnb)), ('No Payment Difficulties', 'Payment Difficulties'), ('No Payment Difficulties', 'Payment Difficulties'))\n",
    "\n",
    "# plot confusion matrix\n",
    "plt.figure()\n",
    "heatmap = sns.heatmap(confusion_matrix_gnb, annot=True, annot_kws={'size': 14}, fmt='d', cmap='bone_r')\n",
    "heatmap.yaxis.set_ticklabels(heatmap.yaxis.get_ticklabels(), rotation=0, ha='right', fontsize=14)\n",
    "heatmap.xaxis.set_ticklabels(heatmap.xaxis.get_ticklabels(), rotation=0, ha='right', fontsize=14)\n",
    "\n",
    "plt.title('Confusion Matrix for Testing Model\\n(Gaussian Naive Bayes)\\n', fontsize=18, color='black')\n",
    "plt.ylabel('True label', fontsize=14)\n",
    "plt.xlabel('Predicted label', fontsize=14)\n",
    "plt.show()"
   ]
  },
  {
   "cell_type": "code",
   "execution_count": 32,
   "metadata": {
    "colab": {
     "base_uri": "https://localhost:8080/"
    },
    "id": "w3jMHoTJ65ZO",
    "outputId": "1fa01f19-61d6-44e2-cfcb-cf2d7ef3e2bc"
   },
   "outputs": [
    {
     "name": "stdout",
     "output_type": "stream",
     "text": [
      "Training Accuracy: % 55.01\n",
      "Test Accuracy: % 55.2\n"
     ]
    }
   ],
   "source": [
    "acc_nb_train=round(gnb_model.score(X_train,y_train)*100,2)\n",
    "acc_nb_test=round(gnb_model.score(X_test,y_test)*100,2)\n",
    "print(\"Training Accuracy: % {}\".format(acc_nb_train))\n",
    "print(\"Test Accuracy: % {}\".format(acc_nb_test))"
   ]
  },
  {
   "cell_type": "code",
   "execution_count": 33,
   "metadata": {
    "colab": {
     "base_uri": "https://localhost:8080/"
    },
    "id": "GHNPcDRr68z3",
    "outputId": "0e254dd3-d30b-44db-a8f5-724c7157bf3a"
   },
   "outputs": [
    {
     "name": "stdout",
     "output_type": "stream",
     "text": [
      "ROC AUC: 0.5518\n"
     ]
    }
   ],
   "source": [
    "# ROC scores\n",
    "roc_auc_gnb = round(roc_auc_score(y_test, y_test_pred_gnb),4)\n",
    "print('ROC AUC:', roc_auc_gnb)"
   ]
  },
  {
   "cell_type": "markdown",
   "metadata": {
    "id": "KBLE1UCf7RhS"
   },
   "source": [
    "3. Decision Tree"
   ]
  },
  {
   "cell_type": "code",
   "execution_count": 34,
   "metadata": {
    "colab": {
     "base_uri": "https://localhost:8080/"
    },
    "id": "ilAeFgem7WPU",
    "outputId": "eb98ebf5-0f22-47b7-c083-dd124f09d49a"
   },
   "outputs": [
    {
     "name": "stdout",
     "output_type": "stream",
     "text": [
      "DecisionTreeClassifier()\n"
     ]
    }
   ],
   "source": [
    "# train the model\n",
    "dt_model = DecisionTreeClassifier().fit(X_train,y_train)\n",
    "print(dt_model)"
   ]
  },
  {
   "cell_type": "code",
   "execution_count": 35,
   "metadata": {
    "colab": {
     "base_uri": "https://localhost:8080/"
    },
    "id": "yUyLX_AP7ctf",
    "outputId": "66e26809-2cb1-41ec-ade2-cc7f7ddfa33d"
   },
   "outputs": [
    {
     "name": "stdout",
     "output_type": "stream",
     "text": [
      "Classification Report Training Model (Decision Tree Classifier):\n",
      "              precision    recall  f1-score   support\n",
      "\n",
      "         0.0       1.00      1.00      1.00    226185\n",
      "         1.0       1.00      1.00      1.00    226112\n",
      "\n",
      "    accuracy                           1.00    452297\n",
      "   macro avg       1.00      1.00      1.00    452297\n",
      "weighted avg       1.00      1.00      1.00    452297\n",
      "\n"
     ]
    }
   ],
   "source": [
    "# predict data train\n",
    "y_train_pred_dt = dt_model.predict(X_train)\n",
    "\n",
    "# print classification report\n",
    "print('Classification Report Training Model (Decision Tree Classifier):')\n",
    "print(classification_report(y_train, y_train_pred_dt))"
   ]
  },
  {
   "cell_type": "code",
   "execution_count": 36,
   "metadata": {
    "colab": {
     "base_uri": "https://localhost:8080/",
     "height": 349
    },
    "id": "h6WIYXvE7gau",
    "outputId": "07241709-4db8-4bea-b140-6306e17843ca"
   },
   "outputs": [
    {
     "data": {
      "image/png": "[encoded data removed]",
      "text/plain": [
       "<Figure size 432x288 with 2 Axes>"
      ]
     },
     "metadata": {
      "needs_background": "light"
     },
     "output_type": "display_data"
    }
   ],
   "source": [
    "# form confusion matrix as a dataFrame\n",
    "confusion_matrix_dt = pd.DataFrame((confusion_matrix(y_train, y_train_pred_dt)), ('No Payment Difficulties', 'Payment Difficulties'), ('No Payment Difficulties', 'Payment Difficulties'))\n",
    "\n",
    "# plot confusion matrix\n",
    "plt.figure()\n",
    "heatmap = sns.heatmap(confusion_matrix_dt, annot=True, annot_kws={'size': 14}, fmt='d', cmap='bone_r')\n",
    "heatmap.yaxis.set_ticklabels(heatmap.yaxis.get_ticklabels(), rotation=0, ha='right', fontsize=14)\n",
    "heatmap.xaxis.set_ticklabels(heatmap.xaxis.get_ticklabels(), rotation=0, ha='right', fontsize=14)\n",
    "\n",
    "plt.title('Confusion Matrix for Training Model\\n(Decision Tree Classifier)\\n', fontsize=18, color='black')\n",
    "plt.ylabel('True label', fontsize=14)\n",
    "plt.xlabel('Predicted label', fontsize=14)\n",
    "plt.show()"
   ]
  },
  {
   "cell_type": "code",
   "execution_count": 37,
   "metadata": {
    "colab": {
     "base_uri": "https://localhost:8080/"
    },
    "id": "aac0F8aT7jYc",
    "outputId": "6950ae44-0a35-4491-88a4-bd7da0c8d59c"
   },
   "outputs": [
    {
     "name": "stdout",
     "output_type": "stream",
     "text": [
      "Classification Report Testing Model (Decision Tree Classifier):\n",
      "              precision    recall  f1-score   support\n",
      "\n",
      "         0.0       0.69      0.91      0.78     56501\n",
      "         1.0       0.87      0.60      0.71     56574\n",
      "\n",
      "    accuracy                           0.75    113075\n",
      "   macro avg       0.78      0.75      0.74    113075\n",
      "weighted avg       0.78      0.75      0.74    113075\n",
      "\n"
     ]
    }
   ],
   "source": [
    "# predict data test\n",
    "y_test_pred_dt = dt_model.predict(X_test)\n",
    "\n",
    "# print classification report\n",
    "print('Classification Report Testing Model (Decision Tree Classifier):')\n",
    "print(classification_report(y_test, y_test_pred_dt))"
   ]
  },
  {
   "cell_type": "code",
   "execution_count": 38,
   "metadata": {
    "colab": {
     "base_uri": "https://localhost:8080/",
     "height": 349
    },
    "id": "WoYfNg0a7lvm",
    "outputId": "9112b71f-7184-47f5-c029-3542a1ac084e"
   },
   "outputs": [
    {
     "data": {
      "image/png": "[encoded data removed]",
      "text/plain": [
       "<Figure size 432x288 with 2 Axes>"
      ]
     },
     "metadata": {
      "needs_background": "light"
     },
     "output_type": "display_data"
    }
   ],
   "source": [
    "# form confusion matrix as a dataFrame\n",
    "confusion_matrix_dt = pd.DataFrame((confusion_matrix(y_test, y_test_pred_dt)), ('No Payment Difficulties', 'Payment Difficulties'), ('No Payment Difficulties', 'Payment Difficulties'))\n",
    "\n",
    "# plot confusion matrix\n",
    "plt.figure()\n",
    "heatmap = sns.heatmap(confusion_matrix_dt, annot=True, annot_kws={'size': 14}, fmt='d', cmap='bone_r')\n",
    "heatmap.yaxis.set_ticklabels(heatmap.yaxis.get_ticklabels(), rotation=0, ha='right', fontsize=14)\n",
    "heatmap.xaxis.set_ticklabels(heatmap.xaxis.get_ticklabels(), rotation=0, ha='right', fontsize=14)\n",
    "\n",
    "plt.title('Confusion Matrix for Testing Model\\n(Decision Tree Classifier)\\n', fontsize=18, color='black')\n",
    "plt.ylabel('True label', fontsize=14)\n",
    "plt.xlabel('Predicted label', fontsize=14)\n",
    "plt.show()"
   ]
  },
  {
   "cell_type": "code",
   "execution_count": 39,
   "metadata": {
    "colab": {
     "base_uri": "https://localhost:8080/"
    },
    "id": "9cLu1Yhs7pAG",
    "outputId": "0503c074-687b-4fda-85f2-636a3907731c"
   },
   "outputs": [
    {
     "name": "stdout",
     "output_type": "stream",
     "text": [
      "Training Accuracy: % 100.0\n",
      "Test Accuracy: % 75.11\n"
     ]
    }
   ],
   "source": [
    "acc_dt_train=round(dt_model.score(X_train,y_train)*100,2)\n",
    "acc_dt_test=round(dt_model.score(X_test,y_test)*100,2)\n",
    "print(\"Training Accuracy: % {}\".format(acc_dt_train))\n",
    "print(\"Test Accuracy: % {}\".format(acc_dt_test))"
   ]
  },
  {
   "cell_type": "code",
   "execution_count": 40,
   "metadata": {
    "colab": {
     "base_uri": "https://localhost:8080/"
    },
    "id": "WQnyz87q7sa7",
    "outputId": "89287229-6589-42b3-f984-e5008541bb0a"
   },
   "outputs": [
    {
     "name": "stdout",
     "output_type": "stream",
     "text": [
      "ROC AUC: 0.7512\n"
     ]
    }
   ],
   "source": [
    "# ROC scores\n",
    "roc_auc_dt = round(roc_auc_score(y_test, y_test_pred_dt),4)\n",
    "print('ROC AUC:', roc_auc_dt)"
   ]
  },
  {
   "cell_type": "markdown",
   "metadata": {
    "id": "rIsKOJVI9fJq"
   },
   "source": [
    "4. Random Forest"
   ]
  },
  {
   "cell_type": "code",
   "execution_count": 41,
   "metadata": {
    "colab": {
     "base_uri": "https://localhost:8080/"
    },
    "id": "ye420jw_9jRl",
    "outputId": "819f9baf-ee32-4128-8e68-da577c9755fb"
   },
   "outputs": [
    {
     "name": "stdout",
     "output_type": "stream",
     "text": [
      "RandomForestClassifier()\n"
     ]
    }
   ],
   "source": [
    "# train the model\n",
    "rf_model = RandomForestClassifier().fit(X_train, y_train)\n",
    "print(rf_model)"
   ]
  },
  {
   "cell_type": "code",
   "execution_count": 42,
   "metadata": {
    "colab": {
     "base_uri": "https://localhost:8080/"
    },
    "id": "xsa9IeQJ9k15",
    "outputId": "81f55643-86f0-4df1-a448-022a3e334e37"
   },
   "outputs": [
    {
     "name": "stdout",
     "output_type": "stream",
     "text": [
      "Classification Report Training Model (Decision Tree Classifier):\n",
      "              precision    recall  f1-score   support\n",
      "\n",
      "         0.0       1.00      1.00      1.00    226185\n",
      "         1.0       1.00      1.00      1.00    226112\n",
      "\n",
      "    accuracy                           1.00    452297\n",
      "   macro avg       1.00      1.00      1.00    452297\n",
      "weighted avg       1.00      1.00      1.00    452297\n",
      "\n"
     ]
    }
   ],
   "source": [
    "# predict data train\n",
    "y_train_pred_dt = rf_model.predict(X_train)\n",
    "\n",
    "# print classification report\n",
    "print('Classification Report Training Model (Decision Tree Classifier):')\n",
    "print(classification_report(y_train, y_train_pred_dt))"
   ]
  },
  {
   "cell_type": "code",
   "execution_count": 43,
   "metadata": {
    "colab": {
     "base_uri": "https://localhost:8080/",
     "height": 349
    },
    "id": "8Ngu6okj9qMz",
    "outputId": "59ba58de-cd03-4fef-ec53-b4b32b4b8688"
   },
   "outputs": [
    {
     "data": {
      "image/png": "[encoded data removed]",
      "text/plain": [
       "<Figure size 432x288 with 2 Axes>"
      ]
     },
     "metadata": {
      "needs_background": "light"
     },
     "output_type": "display_data"
    }
   ],
   "source": [
    "# form confusion matrix as a dataFrame\n",
    "confusion_matrix_rf = pd.DataFrame((confusion_matrix(y_train, y_train_pred_dt)), ('No Payment Difficulties', 'Payment Difficulties'), ('No Payment Difficulties', 'Payment Difficulties'))\n",
    "\n",
    "# plot confusion matrix\n",
    "plt.figure()\n",
    "heatmap = sns.heatmap(confusion_matrix_rf, annot=True, annot_kws={'size': 14}, fmt='d', cmap='bone_r')\n",
    "heatmap.yaxis.set_ticklabels(heatmap.yaxis.get_ticklabels(), rotation=0, ha='right', fontsize=14)\n",
    "heatmap.xaxis.set_ticklabels(heatmap.xaxis.get_ticklabels(), rotation=0, ha='right', fontsize=14)\n",
    "\n",
    "plt.title('Confusion Matrix for Training Model\\n(Random Forest)\\n', fontsize=18, color='black')\n",
    "plt.ylabel('True label', fontsize=14)\n",
    "plt.xlabel('Predicted label', fontsize=14)\n",
    "plt.show()"
   ]
  },
  {
   "cell_type": "code",
   "execution_count": 44,
   "metadata": {
    "colab": {
     "base_uri": "https://localhost:8080/"
    },
    "id": "NfFqsDFw_cob",
    "outputId": "7b3c1ed8-ea6e-40d2-c330-b4f2487c86bd"
   },
   "outputs": [
    {
     "name": "stdout",
     "output_type": "stream",
     "text": [
      "Classification Report Testing Model (Random Forest Classifier):\n",
      "              precision    recall  f1-score   support\n",
      "\n",
      "         0.0       0.94      1.00      0.97     56501\n",
      "         1.0       1.00      0.94      0.97     56574\n",
      "\n",
      "    accuracy                           0.97    113075\n",
      "   macro avg       0.97      0.97      0.97    113075\n",
      "weighted avg       0.97      0.97      0.97    113075\n",
      "\n"
     ]
    }
   ],
   "source": [
    "# predict data test\n",
    "y_test_pred_rf = rf_model.predict(X_test)\n",
    "from sklearn.metrics import confusion_matrix, classification_report\n",
    "\n",
    "# print classification report\n",
    "print('Classification Report Testing Model (Random Forest Classifier):')\n",
    "print(classification_report(y_test, y_test_pred_rf))"
   ]
  },
  {
   "cell_type": "code",
   "execution_count": 45,
   "metadata": {
    "colab": {
     "base_uri": "https://localhost:8080/",
     "height": 349
    },
    "id": "Qri5MYsp_d8l",
    "outputId": "64d41676-89c3-47d1-f654-cca287e329fe"
   },
   "outputs": [
    {
     "data": {
      "image/png": "[encoded data removed]",
      "text/plain": [
       "<Figure size 432x288 with 2 Axes>"
      ]
     },
     "metadata": {
      "needs_background": "light"
     },
     "output_type": "display_data"
    }
   ],
   "source": [
    "# form confusion matrix as a dataFrame\n",
    "confusion_matrix_rf = pd.DataFrame((confusion_matrix(y_test, y_test_pred_rf)), ('No Payment Difficulties', 'Payment Difficulties'), ('No Payment Difficulties', 'Payment Difficulties'))\n",
    "\n",
    "# plot confusion matrix\n",
    "plt.figure()\n",
    "heatmap = sns.heatmap(confusion_matrix_rf, annot=True, annot_kws={'size': 14}, fmt='d', cmap='bone_r')\n",
    "heatmap.yaxis.set_ticklabels(heatmap.yaxis.get_ticklabels(), rotation=0, ha='right', fontsize=14)\n",
    "heatmap.xaxis.set_ticklabels(heatmap.xaxis.get_ticklabels(), rotation=0, ha='right', fontsize=14)\n",
    "\n",
    "plt.title('Confusion Matrix for Testing Model\\n(Random Forest)\\n', fontsize=18, color='black')\n",
    "plt.ylabel('True label', fontsize=14)\n",
    "plt.xlabel('Predicted label', fontsize=14)\n",
    "plt.show()"
   ]
  },
  {
   "cell_type": "code",
   "execution_count": 46,
   "metadata": {
    "colab": {
     "base_uri": "https://localhost:8080/"
    },
    "id": "KI0TctiL_g0J",
    "outputId": "648d3a3d-b71d-4bf8-831b-45d9f53d84e0"
   },
   "outputs": [
    {
     "name": "stdout",
     "output_type": "stream",
     "text": [
      "Training Accuracy: % 100.0\n",
      "Test Accuracy: % 96.97\n"
     ]
    }
   ],
   "source": [
    "acc_rf_train=round(rf_model.score(X_train,y_train)*100,2)\n",
    "acc_rf_test=round(rf_model.score(X_test,y_test)*100,2)\n",
    "print(\"Training Accuracy: % {}\".format(acc_rf_train))\n",
    "print(\"Test Accuracy: % {}\".format(acc_rf_test))"
   ]
  },
  {
   "cell_type": "code",
   "execution_count": 47,
   "metadata": {
    "colab": {
     "base_uri": "https://localhost:8080/"
    },
    "id": "b3wesBRU_j-B",
    "outputId": "4a254765-f0d0-47f6-88db-296a60179abd"
   },
   "outputs": [
    {
     "name": "stdout",
     "output_type": "stream",
     "text": [
      "ROC AUC: 0.9697\n"
     ]
    }
   ],
   "source": [
    "# ROC scores\n",
    "roc_auc_rf = round(roc_auc_score(y_test, y_test_pred_rf),4)\n",
    "print('ROC AUC:', roc_auc_rf)"
   ]
  },
  {
   "cell_type": "code",
   "execution_count": 48,
   "metadata": {
    "colab": {
     "base_uri": "https://localhost:8080/",
     "height": 621
    },
    "id": "iV1UzFO0_m50",
    "outputId": "18141244-6395-4908-bc45-61e71971bf68"
   },
   "outputs": [
    {
     "data": {
      "image/png": "[encoded data removed]",
      "text/plain": [
       "<Figure size 720x720 with 1 Axes>"
      ]
     },
     "metadata": {},
     "output_type": "display_data"
    }
   ],
   "source": [
    "# important features\n",
    "importances_rf = pd.Series(rf_model.feature_importances_, index=x_balanced.columns).sort_values(ascending=True)\n",
    "\n",
    "plt.style.use('seaborn-darkgrid')\n",
    "plt.figure(figsize=(10,10))\n",
    "fig = importances_rf.plot(kind ='barh', color ='teal')\n",
    "plt.title('Features Importance Plot\\n', fontsize=14)\n",
    "plt.show()\n",
    "\n",
    "fig.figure.tight_layout()\n",
    "fig.figure.savefig('top feature.png')"
   ]
  },
  {
   "cell_type": "markdown",
   "metadata": {
    "id": "FnIPM91qxOrj"
   },
   "source": [
    "5. Neural Network"
   ]
  },
  {
   "cell_type": "code",
   "execution_count": 51,
   "metadata": {
    "id": "e7ce1-auxLgT"
   },
   "outputs": [],
   "source": [
    "# train the model\n",
    "nn_model = MLPClassifier().fit(X_train, y_train)"
   ]
  },
  {
   "cell_type": "code",
   "execution_count": 52,
   "metadata": {
    "id": "oVgWGqpHxVgb"
   },
   "outputs": [
    {
     "name": "stdout",
     "output_type": "stream",
     "text": [
      "Classification Report Training Model (Neural Network):\n",
      "              precision    recall  f1-score   support\n",
      "\n",
      "         0.0       0.62      0.71      0.66    226185\n",
      "         1.0       0.66      0.56      0.61    226112\n",
      "\n",
      "    accuracy                           0.64    452297\n",
      "   macro avg       0.64      0.64      0.64    452297\n",
      "weighted avg       0.64      0.64      0.64    452297\n",
      "\n"
     ]
    }
   ],
   "source": [
    "# predit data train\n",
    "y_train_pred_nn = nn_model.predict(X_train)\n",
    "\n",
    "# print classification report\n",
    "print('Classification Report Training Model (Neural Network):')\n",
    "print(classification_report(y_train, y_train_pred_nn))"
   ]
  },
  {
   "cell_type": "code",
   "execution_count": 53,
   "metadata": {
    "id": "k6VCXuWZxXt1"
   },
   "outputs": [
    {
     "data": {
      "image/png": "[encoded data removed]",
      "text/plain": [
       "<Figure size 432x288 with 2 Axes>"
      ]
     },
     "metadata": {},
     "output_type": "display_data"
    }
   ],
   "source": [
    "# form confusion matrix as a dataFrame\n",
    "confusion_matrix_nn = pd.DataFrame((confusion_matrix(y_train, y_train_pred_nn)), ('No Payment Difficulties', 'Payment Difficulties'), ('No Payment Difficulties', 'Payment Difficulties'))\n",
    "\n",
    "# plot confusion matrix\n",
    "plt.figure()\n",
    "heatmap = sns.heatmap(confusion_matrix_nn, annot=True, annot_kws={'size': 14}, fmt='d', cmap='bone_r')\n",
    "heatmap.yaxis.set_ticklabels(heatmap.yaxis.get_ticklabels(), rotation=0, ha='right', fontsize=14)\n",
    "heatmap.xaxis.set_ticklabels(heatmap.xaxis.get_ticklabels(), rotation=0, ha='right', fontsize=14)\n",
    "\n",
    "plt.title('Confusion Matrix for Training Model\\n(Neural Network)\\n', fontsize=18, color='black')\n",
    "plt.ylabel('True label', fontsize=14)\n",
    "plt.xlabel('Predicted label', fontsize=14)\n",
    "plt.show()"
   ]
  },
  {
   "cell_type": "code",
   "execution_count": 54,
   "metadata": {
    "id": "xnrHLmgqxbOF"
   },
   "outputs": [
    {
     "name": "stdout",
     "output_type": "stream",
     "text": [
      "Classification Report Testing Model (Neural Network):\n",
      "              precision    recall  f1-score   support\n",
      "\n",
      "         0.0       0.61      0.71      0.66     56501\n",
      "         1.0       0.66      0.55      0.60     56574\n",
      "\n",
      "    accuracy                           0.63    113075\n",
      "   macro avg       0.63      0.63      0.63    113075\n",
      "weighted avg       0.63      0.63      0.63    113075\n",
      "\n"
     ]
    }
   ],
   "source": [
    "# predit data test\n",
    "y_test_pred_nn = nn_model.predict(X_test)\n",
    "\n",
    "# print classification report\n",
    "print('Classification Report Testing Model (Neural Network):')\n",
    "print(classification_report(y_test, y_test_pred_nn))"
   ]
  },
  {
   "cell_type": "code",
   "execution_count": 55,
   "metadata": {
    "id": "-lZlK3s8xdbF"
   },
   "outputs": [
    {
     "data": {
      "image/png": "[encoded data removed]",
      "text/plain": [
       "<Figure size 432x288 with 2 Axes>"
      ]
     },
     "metadata": {},
     "output_type": "display_data"
    }
   ],
   "source": [
    "# form confusion matrix as a dataFrame\n",
    "confusion_matrix_nn = pd.DataFrame((confusion_matrix(y_test, y_test_pred_nn)), ('No Payment Difficulties', 'Payment Difficulties'), ('No Payment Difficulties', 'Payment Difficulties'))\n",
    "\n",
    "# plot confusion matrix\n",
    "plt.figure()\n",
    "heatmap = sns.heatmap(confusion_matrix_nn, annot=True, annot_kws={'size': 14}, fmt='d', cmap='bone_r')\n",
    "heatmap.yaxis.set_ticklabels(heatmap.yaxis.get_ticklabels(), rotation=0, ha='right', fontsize=14)\n",
    "heatmap.xaxis.set_ticklabels(heatmap.xaxis.get_ticklabels(), rotation=0, ha='right', fontsize=14)\n",
    "\n",
    "plt.title('Confusion Matrix for Testing Model\\n(Neural Network)\\n', fontsize=18, color='black')\n",
    "plt.ylabel('True label', fontsize=14)\n",
    "plt.xlabel('Predicted label', fontsize=14)\n",
    "plt.show()"
   ]
  },
  {
   "cell_type": "code",
   "execution_count": 56,
   "metadata": {
    "id": "Q9E7_eT1xg7m"
   },
   "outputs": [
    {
     "name": "stdout",
     "output_type": "stream",
     "text": [
      "Training Accuracy: % 63.81\n",
      "Test Accuracy: % 63.06\n"
     ]
    }
   ],
   "source": [
    "acc_nn_train=round(nn_model.score(X_train,y_train)*100,2)\n",
    "acc_nn_test=round(nn_model.score(X_test,y_test)*100,2)\n",
    "print(\"Training Accuracy: % {}\".format(acc_nn_train))\n",
    "print(\"Test Accuracy: % {}\".format(acc_nn_test))"
   ]
  },
  {
   "cell_type": "code",
   "execution_count": 57,
   "metadata": {
    "id": "cBPIy6pFxi06"
   },
   "outputs": [
    {
     "name": "stdout",
     "output_type": "stream",
     "text": [
      "ROC AUC: 0.6307\n"
     ]
    }
   ],
   "source": [
    "# ROC scores\n",
    "roc_auc_nn = round(roc_auc_score(y_test, y_test_pred_nn),4)\n",
    "print('ROC AUC:', roc_auc_nn)"
   ]
  },
  {
   "cell_type": "markdown",
   "metadata": {},
   "source": [
    "**Model Selection**"
   ]
  },
  {
   "cell_type": "code",
   "execution_count": 58,
   "metadata": {},
   "outputs": [
    {
     "data": {
      "text/html": [
       "<style type=\"text/css\">\n",
       "#T_6a4ae_row0_col1, #T_6a4ae_row0_col2, #T_6a4ae_row0_col3, #T_6a4ae_row1_col1 {\n",
       "  background-color: #08306b;\n",
       "  color: #f1f1f1;\n",
       "}\n",
       "#T_6a4ae_row1_col2, #T_6a4ae_row1_col3 {\n",
       "  background-color: #74b3d8;\n",
       "  color: #000000;\n",
       "}\n",
       "#T_6a4ae_row2_col1 {\n",
       "  background-color: #d0e2f2;\n",
       "  color: #000000;\n",
       "}\n",
       "#T_6a4ae_row2_col2, #T_6a4ae_row2_col3 {\n",
       "  background-color: #d2e3f3;\n",
       "  color: #000000;\n",
       "}\n",
       "#T_6a4ae_row3_col1 {\n",
       "  background-color: #e2edf8;\n",
       "  color: #000000;\n",
       "}\n",
       "#T_6a4ae_row3_col2, #T_6a4ae_row3_col3 {\n",
       "  background-color: #e0ecf8;\n",
       "  color: #000000;\n",
       "}\n",
       "#T_6a4ae_row4_col1, #T_6a4ae_row4_col2, #T_6a4ae_row4_col3 {\n",
       "  background-color: #f7fbff;\n",
       "  color: #000000;\n",
       "}\n",
       "</style>\n",
       "<table id=\"T_6a4ae_\">\n",
       "  <thead>\n",
       "    <tr>\n",
       "      <th class=\"blank level0\" >&nbsp;</th>\n",
       "      <th class=\"col_heading level0 col0\" >Models</th>\n",
       "      <th class=\"col_heading level0 col1\" >Training Accuracy Score</th>\n",
       "      <th class=\"col_heading level0 col2\" >Testing Accuracy Score</th>\n",
       "      <th class=\"col_heading level0 col3\" >ROC Score</th>\n",
       "    </tr>\n",
       "  </thead>\n",
       "  <tbody>\n",
       "    <tr>\n",
       "      <th id=\"T_6a4ae_level0_row0\" class=\"row_heading level0 row0\" >3</th>\n",
       "      <td id=\"T_6a4ae_row0_col0\" class=\"data row0 col0\" >Random Forest</td>\n",
       "      <td id=\"T_6a4ae_row0_col1\" class=\"data row0 col1\" >1.000000</td>\n",
       "      <td id=\"T_6a4ae_row0_col2\" class=\"data row0 col2\" >0.969700</td>\n",
       "      <td id=\"T_6a4ae_row0_col3\" class=\"data row0 col3\" >0.969700</td>\n",
       "    </tr>\n",
       "    <tr>\n",
       "      <th id=\"T_6a4ae_level0_row1\" class=\"row_heading level0 row1\" >2</th>\n",
       "      <td id=\"T_6a4ae_row1_col0\" class=\"data row1 col0\" >Decision Tree</td>\n",
       "      <td id=\"T_6a4ae_row1_col1\" class=\"data row1 col1\" >1.000000</td>\n",
       "      <td id=\"T_6a4ae_row1_col2\" class=\"data row1 col2\" >0.751100</td>\n",
       "      <td id=\"T_6a4ae_row1_col3\" class=\"data row1 col3\" >0.751200</td>\n",
       "    </tr>\n",
       "    <tr>\n",
       "      <th id=\"T_6a4ae_level0_row2\" class=\"row_heading level0 row2\" >4</th>\n",
       "      <td id=\"T_6a4ae_row2_col0\" class=\"data row2 col0\" >Neural Network</td>\n",
       "      <td id=\"T_6a4ae_row2_col1\" class=\"data row2 col1\" >0.638100</td>\n",
       "      <td id=\"T_6a4ae_row2_col2\" class=\"data row2 col2\" >0.630600</td>\n",
       "      <td id=\"T_6a4ae_row2_col3\" class=\"data row2 col3\" >0.630700</td>\n",
       "    </tr>\n",
       "    <tr>\n",
       "      <th id=\"T_6a4ae_level0_row3\" class=\"row_heading level0 row3\" >0</th>\n",
       "      <td id=\"T_6a4ae_row3_col0\" class=\"data row3 col0\" >Logistic Regression</td>\n",
       "      <td id=\"T_6a4ae_row3_col1\" class=\"data row3 col1\" >0.599300</td>\n",
       "      <td id=\"T_6a4ae_row3_col2\" class=\"data row3 col2\" >0.600700</td>\n",
       "      <td id=\"T_6a4ae_row3_col3\" class=\"data row3 col3\" >0.600700</td>\n",
       "    </tr>\n",
       "    <tr>\n",
       "      <th id=\"T_6a4ae_level0_row4\" class=\"row_heading level0 row4\" >1</th>\n",
       "      <td id=\"T_6a4ae_row4_col0\" class=\"data row4 col0\" >Gaussian Naive Bayes</td>\n",
       "      <td id=\"T_6a4ae_row4_col1\" class=\"data row4 col1\" >0.550100</td>\n",
       "      <td id=\"T_6a4ae_row4_col2\" class=\"data row4 col2\" >0.552000</td>\n",
       "      <td id=\"T_6a4ae_row4_col3\" class=\"data row4 col3\" >0.551800</td>\n",
       "    </tr>\n",
       "  </tbody>\n",
       "</table>\n"
      ],
      "text/plain": [
       "<pandas.io.formats.style.Styler at 0x7ff6bb7799a0>"
      ]
     },
     "execution_count": 58,
     "metadata": {},
     "output_type": "execute_result"
    }
   ],
   "source": [
    "results = pd.DataFrame([[\"Logistic Regression\", 0.5993, 0.6007, 0.6007],[\"Gaussian Naive Bayes\", 0.5501, 0.552, 0.5518],\n",
    "                       [\"Decision Tree\", 1, 0.7511, 0.7512],[\"Random Forest\", 1, 0.9697, 0.9697],\n",
    "                       [\"Neural Network\", 0.6381, 0.6306, 0.6307]],\n",
    "                        columns = [\"Models\", \"Training Accuracy Score\", \"Testing Accuracy Score\", \"ROC Score\"])\n",
    "\n",
    "results.sort_values(by=['Training Accuracy Score', 'Testing Accuracy Score'], ascending=False).style.background_gradient(cmap='Blues')\n",
    "\n"
   ]
  },
  {
   "cell_type": "markdown",
   "metadata": {},
   "source": [
    "The prediction accuracy of the train and test data in Random Forest model has a value that is not much different, it can be said that the model is very good, which is there is no underfitting or overfitting. So the Random Forest model was chosen as the best model to predict client’s repayment abilities."
   ]
  },
  {
   "cell_type": "markdown",
   "metadata": {},
   "source": [
    "**Prediction**"
   ]
  },
  {
   "cell_type": "code",
   "execution_count": 82,
   "metadata": {},
   "outputs": [
    {
     "data": {
      "text/html": [
       "<div>\n",
       "<style scoped>\n",
       "    .dataframe tbody tr th:only-of-type {\n",
       "        vertical-align: middle;\n",
       "    }\n",
       "\n",
       "    .dataframe tbody tr th {\n",
       "        vertical-align: top;\n",
       "    }\n",
       "\n",
       "    .dataframe thead th {\n",
       "        text-align: right;\n",
       "    }\n",
       "</style>\n",
       "<table border=\"1\" class=\"dataframe\">\n",
       "  <thead>\n",
       "    <tr style=\"text-align: right;\">\n",
       "      <th></th>\n",
       "      <th>SK_ID_CURR</th>\n",
       "      <th>NAME_CONTRACT_TYPE</th>\n",
       "      <th>FLAG_OWN_CAR</th>\n",
       "      <th>FLAG_OWN_REALTY</th>\n",
       "      <th>CNT_CHILDREN</th>\n",
       "      <th>AMT_INCOME_TOTAL</th>\n",
       "      <th>AMT_CREDIT</th>\n",
       "      <th>AMT_ANNUITY</th>\n",
       "      <th>AMT_GOODS_PRICE</th>\n",
       "      <th>NAME_TYPE_SUITE</th>\n",
       "      <th>...</th>\n",
       "      <th>Prev_IP_AMT_INSTALMENT</th>\n",
       "      <th>Prev_IP_AMT_PAYMENT</th>\n",
       "      <th>Prev_CCB_AMT_BALANCE</th>\n",
       "      <th>Prev_CCB_AMT_CREDIT_LIMIT_ACTUAL</th>\n",
       "      <th>Prev_CCB_AMT_DRAWINGS_CURRENT</th>\n",
       "      <th>Prev_CCB_AMT_PAYMENT_TOTAL_CURRENT</th>\n",
       "      <th>Prev_CCB_AMT_RECEIVABLE_PRINCIPAL</th>\n",
       "      <th>Prev_CCB_AMT_RECIVABLE</th>\n",
       "      <th>Prev_CCB_AMT_TOTAL_RECEIVABLE</th>\n",
       "      <th>TARGET</th>\n",
       "    </tr>\n",
       "  </thead>\n",
       "  <tbody>\n",
       "    <tr>\n",
       "      <th>307511</th>\n",
       "      <td>100001</td>\n",
       "      <td>0</td>\n",
       "      <td>0</td>\n",
       "      <td>0</td>\n",
       "      <td>0</td>\n",
       "      <td>135000.0</td>\n",
       "      <td>568800.0</td>\n",
       "      <td>20560.5</td>\n",
       "      <td>450000.0</td>\n",
       "      <td>248526.0</td>\n",
       "      <td>...</td>\n",
       "      <td>21081.261719</td>\n",
       "      <td>21081.261719</td>\n",
       "      <td>27858.203125</td>\n",
       "      <td>171000.000000</td>\n",
       "      <td>4996.267090</td>\n",
       "      <td>4558.888672</td>\n",
       "      <td>26644.955078</td>\n",
       "      <td>27533.273438</td>\n",
       "      <td>27533.273438</td>\n",
       "      <td>NaN</td>\n",
       "    </tr>\n",
       "    <tr>\n",
       "      <th>307512</th>\n",
       "      <td>100005</td>\n",
       "      <td>0</td>\n",
       "      <td>0</td>\n",
       "      <td>0</td>\n",
       "      <td>0</td>\n",
       "      <td>99000.0</td>\n",
       "      <td>222768.0</td>\n",
       "      <td>17370.0</td>\n",
       "      <td>180000.0</td>\n",
       "      <td>248526.0</td>\n",
       "      <td>...</td>\n",
       "      <td>23136.941406</td>\n",
       "      <td>23136.941406</td>\n",
       "      <td>14996.948242</td>\n",
       "      <td>137903.218750</td>\n",
       "      <td>9184.992188</td>\n",
       "      <td>9456.458008</td>\n",
       "      <td>14305.061523</td>\n",
       "      <td>14548.675781</td>\n",
       "      <td>14548.675781</td>\n",
       "      <td>NaN</td>\n",
       "    </tr>\n",
       "    <tr>\n",
       "      <th>307513</th>\n",
       "      <td>100013</td>\n",
       "      <td>0</td>\n",
       "      <td>1</td>\n",
       "      <td>0</td>\n",
       "      <td>0</td>\n",
       "      <td>202500.0</td>\n",
       "      <td>663264.0</td>\n",
       "      <td>69777.0</td>\n",
       "      <td>630000.0</td>\n",
       "      <td>248526.0</td>\n",
       "      <td>...</td>\n",
       "      <td>11450.142578</td>\n",
       "      <td>11450.142578</td>\n",
       "      <td>10685.238281</td>\n",
       "      <td>82025.320312</td>\n",
       "      <td>1090.424072</td>\n",
       "      <td>1530.968384</td>\n",
       "      <td>10255.441406</td>\n",
       "      <td>10597.750977</td>\n",
       "      <td>10597.750977</td>\n",
       "      <td>NaN</td>\n",
       "    </tr>\n",
       "    <tr>\n",
       "      <th>307514</th>\n",
       "      <td>100028</td>\n",
       "      <td>0</td>\n",
       "      <td>0</td>\n",
       "      <td>0</td>\n",
       "      <td>2</td>\n",
       "      <td>315000.0</td>\n",
       "      <td>1575000.0</td>\n",
       "      <td>49018.5</td>\n",
       "      <td>1575000.0</td>\n",
       "      <td>248526.0</td>\n",
       "      <td>...</td>\n",
       "      <td>44632.816406</td>\n",
       "      <td>41626.031250</td>\n",
       "      <td>27858.203125</td>\n",
       "      <td>171000.000000</td>\n",
       "      <td>4996.267090</td>\n",
       "      <td>4558.888672</td>\n",
       "      <td>26644.955078</td>\n",
       "      <td>27533.273438</td>\n",
       "      <td>27533.273438</td>\n",
       "      <td>NaN</td>\n",
       "    </tr>\n",
       "    <tr>\n",
       "      <th>307515</th>\n",
       "      <td>100038</td>\n",
       "      <td>0</td>\n",
       "      <td>1</td>\n",
       "      <td>1</td>\n",
       "      <td>1</td>\n",
       "      <td>180000.0</td>\n",
       "      <td>625500.0</td>\n",
       "      <td>32067.0</td>\n",
       "      <td>625500.0</td>\n",
       "      <td>248526.0</td>\n",
       "      <td>...</td>\n",
       "      <td>102297.515625</td>\n",
       "      <td>101564.226562</td>\n",
       "      <td>101208.390625</td>\n",
       "      <td>101250.000000</td>\n",
       "      <td>11736.103516</td>\n",
       "      <td>367.753510</td>\n",
       "      <td>88407.226562</td>\n",
       "      <td>98558.921875</td>\n",
       "      <td>98558.921875</td>\n",
       "      <td>NaN</td>\n",
       "    </tr>\n",
       "  </tbody>\n",
       "</table>\n",
       "<p>5 rows × 79 columns</p>\n",
       "</div>"
      ],
      "text/plain": [
       "        SK_ID_CURR  NAME_CONTRACT_TYPE  FLAG_OWN_CAR  FLAG_OWN_REALTY  \\\n",
       "307511      100001                   0             0                0   \n",
       "307512      100005                   0             0                0   \n",
       "307513      100013                   0             1                0   \n",
       "307514      100028                   0             0                0   \n",
       "307515      100038                   0             1                1   \n",
       "\n",
       "        CNT_CHILDREN  AMT_INCOME_TOTAL  AMT_CREDIT  AMT_ANNUITY  \\\n",
       "307511             0          135000.0    568800.0      20560.5   \n",
       "307512             0           99000.0    222768.0      17370.0   \n",
       "307513             0          202500.0    663264.0      69777.0   \n",
       "307514             2          315000.0   1575000.0      49018.5   \n",
       "307515             1          180000.0    625500.0      32067.0   \n",
       "\n",
       "        AMT_GOODS_PRICE  NAME_TYPE_SUITE  ...  Prev_IP_AMT_INSTALMENT  \\\n",
       "307511         450000.0         248526.0  ...            21081.261719   \n",
       "307512         180000.0         248526.0  ...            23136.941406   \n",
       "307513         630000.0         248526.0  ...            11450.142578   \n",
       "307514        1575000.0         248526.0  ...            44632.816406   \n",
       "307515         625500.0         248526.0  ...           102297.515625   \n",
       "\n",
       "        Prev_IP_AMT_PAYMENT  Prev_CCB_AMT_BALANCE  \\\n",
       "307511         21081.261719          27858.203125   \n",
       "307512         23136.941406          14996.948242   \n",
       "307513         11450.142578          10685.238281   \n",
       "307514         41626.031250          27858.203125   \n",
       "307515        101564.226562         101208.390625   \n",
       "\n",
       "        Prev_CCB_AMT_CREDIT_LIMIT_ACTUAL  Prev_CCB_AMT_DRAWINGS_CURRENT  \\\n",
       "307511                     171000.000000                    4996.267090   \n",
       "307512                     137903.218750                    9184.992188   \n",
       "307513                      82025.320312                    1090.424072   \n",
       "307514                     171000.000000                    4996.267090   \n",
       "307515                     101250.000000                   11736.103516   \n",
       "\n",
       "        Prev_CCB_AMT_PAYMENT_TOTAL_CURRENT  Prev_CCB_AMT_RECEIVABLE_PRINCIPAL  \\\n",
       "307511                         4558.888672                       26644.955078   \n",
       "307512                         9456.458008                       14305.061523   \n",
       "307513                         1530.968384                       10255.441406   \n",
       "307514                         4558.888672                       26644.955078   \n",
       "307515                          367.753510                       88407.226562   \n",
       "\n",
       "        Prev_CCB_AMT_RECIVABLE  Prev_CCB_AMT_TOTAL_RECEIVABLE  TARGET  \n",
       "307511            27533.273438                   27533.273438     NaN  \n",
       "307512            14548.675781                   14548.675781     NaN  \n",
       "307513            10597.750977                   10597.750977     NaN  \n",
       "307514            27533.273438                   27533.273438     NaN  \n",
       "307515            98558.921875                   98558.921875     NaN  \n",
       "\n",
       "[5 rows x 79 columns]"
      ]
     },
     "execution_count": 82,
     "metadata": {},
     "output_type": "execute_result"
    }
   ],
   "source": [
    "data_test.head()"
   ]
  },
  {
   "cell_type": "code",
   "execution_count": 83,
   "metadata": {},
   "outputs": [],
   "source": [
    "data_test.iloc[:,:] = data_test.iloc[:,:].abs()"
   ]
  },
  {
   "cell_type": "code",
   "execution_count": 84,
   "metadata": {},
   "outputs": [
    {
     "name": "stdout",
     "output_type": "stream",
     "text": [
      "Missing values status: True\n"
     ]
    },
    {
     "data": {
      "text/html": [
       "<div>\n",
       "<style scoped>\n",
       "    .dataframe tbody tr th:only-of-type {\n",
       "        vertical-align: middle;\n",
       "    }\n",
       "\n",
       "    .dataframe tbody tr th {\n",
       "        vertical-align: top;\n",
       "    }\n",
       "\n",
       "    .dataframe thead th {\n",
       "        text-align: right;\n",
       "    }\n",
       "</style>\n",
       "<table border=\"1\" class=\"dataframe\">\n",
       "  <thead>\n",
       "    <tr style=\"text-align: right;\">\n",
       "      <th></th>\n",
       "      <th>index</th>\n",
       "      <th>Total Null Values</th>\n",
       "      <th>Percentage</th>\n",
       "    </tr>\n",
       "  </thead>\n",
       "  <tbody>\n",
       "    <tr>\n",
       "      <th>0</th>\n",
       "      <td>TARGET</td>\n",
       "      <td>48744</td>\n",
       "      <td>100.0</td>\n",
       "    </tr>\n",
       "    <tr>\n",
       "      <th>1</th>\n",
       "      <td>FLAG_DOCUMENT_20</td>\n",
       "      <td>0</td>\n",
       "      <td>0.0</td>\n",
       "    </tr>\n",
       "    <tr>\n",
       "      <th>2</th>\n",
       "      <td>Bureau_AMT_ANNUITY</td>\n",
       "      <td>0</td>\n",
       "      <td>0.0</td>\n",
       "    </tr>\n",
       "    <tr>\n",
       "      <th>3</th>\n",
       "      <td>Bureau_AMT_CREDIT_SUM_OVERDUE</td>\n",
       "      <td>0</td>\n",
       "      <td>0.0</td>\n",
       "    </tr>\n",
       "    <tr>\n",
       "      <th>4</th>\n",
       "      <td>Bureau_AMT_CREDIT_SUM_LIMIT</td>\n",
       "      <td>0</td>\n",
       "      <td>0.0</td>\n",
       "    </tr>\n",
       "    <tr>\n",
       "      <th>...</th>\n",
       "      <td>...</td>\n",
       "      <td>...</td>\n",
       "      <td>...</td>\n",
       "    </tr>\n",
       "    <tr>\n",
       "      <th>74</th>\n",
       "      <td>HOUR_APPR_PROCESS_START</td>\n",
       "      <td>0</td>\n",
       "      <td>0.0</td>\n",
       "    </tr>\n",
       "    <tr>\n",
       "      <th>75</th>\n",
       "      <td>WEEKDAY_APPR_PROCESS_START</td>\n",
       "      <td>0</td>\n",
       "      <td>0.0</td>\n",
       "    </tr>\n",
       "    <tr>\n",
       "      <th>76</th>\n",
       "      <td>REGION_RATING_CLIENT_W_CITY</td>\n",
       "      <td>0</td>\n",
       "      <td>0.0</td>\n",
       "    </tr>\n",
       "    <tr>\n",
       "      <th>77</th>\n",
       "      <td>REGION_RATING_CLIENT</td>\n",
       "      <td>0</td>\n",
       "      <td>0.0</td>\n",
       "    </tr>\n",
       "    <tr>\n",
       "      <th>78</th>\n",
       "      <td>FLAG_DOCUMENT_7</td>\n",
       "      <td>0</td>\n",
       "      <td>0.0</td>\n",
       "    </tr>\n",
       "  </tbody>\n",
       "</table>\n",
       "<p>79 rows × 3 columns</p>\n",
       "</div>"
      ],
      "text/plain": [
       "                            index  Total Null Values  Percentage\n",
       "0                          TARGET              48744       100.0\n",
       "1                FLAG_DOCUMENT_20                  0         0.0\n",
       "2              Bureau_AMT_ANNUITY                  0         0.0\n",
       "3   Bureau_AMT_CREDIT_SUM_OVERDUE                  0         0.0\n",
       "4     Bureau_AMT_CREDIT_SUM_LIMIT                  0         0.0\n",
       "..                            ...                ...         ...\n",
       "74        HOUR_APPR_PROCESS_START                  0         0.0\n",
       "75     WEEKDAY_APPR_PROCESS_START                  0         0.0\n",
       "76    REGION_RATING_CLIENT_W_CITY                  0         0.0\n",
       "77           REGION_RATING_CLIENT                  0         0.0\n",
       "78                FLAG_DOCUMENT_7                  0         0.0\n",
       "\n",
       "[79 rows x 3 columns]"
      ]
     },
     "execution_count": 84,
     "metadata": {},
     "output_type": "execute_result"
    }
   ],
   "source": [
    "# check for empty elements\n",
    "print('Missing values status:', data_test.isnull().values.any())\n",
    "tvc = pd.DataFrame(data_test.isnull().sum(), columns=['Total Null Values'])\n",
    "tvc['Percentage'] = (tvc['Total Null Values']/data_test.shape[0])*100\n",
    "tvc.sort_values(by=['Total Null Values'], ascending=False).reset_index()"
   ]
  },
  {
   "cell_type": "code",
   "execution_count": 85,
   "metadata": {},
   "outputs": [
    {
     "name": "stdout",
     "output_type": "stream",
     "text": [
      "The number of duplication is: 0\n"
     ]
    }
   ],
   "source": [
    "#detecting duplication\n",
    "print('The number of duplication is:', data_test.duplicated().sum())"
   ]
  },
  {
   "cell_type": "code",
   "execution_count": 88,
   "metadata": {},
   "outputs": [
    {
     "data": {
      "text/html": [
       "<div>\n",
       "<style scoped>\n",
       "    .dataframe tbody tr th:only-of-type {\n",
       "        vertical-align: middle;\n",
       "    }\n",
       "\n",
       "    .dataframe tbody tr th {\n",
       "        vertical-align: top;\n",
       "    }\n",
       "\n",
       "    .dataframe thead th {\n",
       "        text-align: right;\n",
       "    }\n",
       "</style>\n",
       "<table border=\"1\" class=\"dataframe\">\n",
       "  <thead>\n",
       "    <tr style=\"text-align: right;\">\n",
       "      <th></th>\n",
       "      <th>DAYS_EMPLOYED</th>\n",
       "      <th>AMT_GOODS_PRICE</th>\n",
       "      <th>AMT_CREDIT</th>\n",
       "      <th>NAME_INCOME_TYPE</th>\n",
       "      <th>NAME_EDUCATION_TYPE</th>\n",
       "      <th>NAME_FAMILY_STATUS</th>\n",
       "      <th>NAME_HOUSING_TYPE</th>\n",
       "      <th>DAYS_BIRTH</th>\n",
       "      <th>AMT_INCOME_TOTAL</th>\n",
       "      <th>Bureau_AMT_CREDIT_SUM_DEBT</th>\n",
       "      <th>DAYS_ID_PUBLISH</th>\n",
       "      <th>NAME_TYPE_SUITE</th>\n",
       "      <th>Bureau_AMT_CREDIT_SUM_OVERDUE</th>\n",
       "      <th>AMT_ANNUITY</th>\n",
       "      <th>FONDKAPREMONT_MODE</th>\n",
       "      <th>Bureau_AMT_CREDIT_MAX_OVERDUE</th>\n",
       "      <th>Bureau_AMT_CREDIT_SUM</th>\n",
       "      <th>Prev_CCB_AMT_DRAWINGS_CURRENT</th>\n",
       "      <th>Bureau_AMT_ANNUITY</th>\n",
       "      <th>Prev_CCB_AMT_PAYMENT_TOTAL_CURRENT</th>\n",
       "    </tr>\n",
       "  </thead>\n",
       "  <tbody>\n",
       "    <tr>\n",
       "      <th>307511</th>\n",
       "      <td>2329</td>\n",
       "      <td>450000.0</td>\n",
       "      <td>568800.0</td>\n",
       "      <td>158774.0</td>\n",
       "      <td>74863</td>\n",
       "      <td>196432.0</td>\n",
       "      <td>272868</td>\n",
       "      <td>19241</td>\n",
       "      <td>135000.0</td>\n",
       "      <td>47410.53125</td>\n",
       "      <td>812</td>\n",
       "      <td>248526.0</td>\n",
       "      <td>0.0</td>\n",
       "      <td>20560.5</td>\n",
       "      <td>73830.0</td>\n",
       "      <td>25891.5</td>\n",
       "      <td>543085.9375</td>\n",
       "      <td>4996.267090</td>\n",
       "      <td>6712.5</td>\n",
       "      <td>4558.888672</td>\n",
       "    </tr>\n",
       "    <tr>\n",
       "      <th>307512</th>\n",
       "      <td>4469</td>\n",
       "      <td>180000.0</td>\n",
       "      <td>222768.0</td>\n",
       "      <td>158774.0</td>\n",
       "      <td>218391</td>\n",
       "      <td>196432.0</td>\n",
       "      <td>272868</td>\n",
       "      <td>18064</td>\n",
       "      <td>99000.0</td>\n",
       "      <td>47410.53125</td>\n",
       "      <td>1623</td>\n",
       "      <td>248526.0</td>\n",
       "      <td>0.0</td>\n",
       "      <td>17370.0</td>\n",
       "      <td>73830.0</td>\n",
       "      <td>25891.5</td>\n",
       "      <td>543085.9375</td>\n",
       "      <td>9184.992188</td>\n",
       "      <td>6712.5</td>\n",
       "      <td>9456.458008</td>\n",
       "    </tr>\n",
       "    <tr>\n",
       "      <th>307513</th>\n",
       "      <td>4458</td>\n",
       "      <td>630000.0</td>\n",
       "      <td>663264.0</td>\n",
       "      <td>158774.0</td>\n",
       "      <td>74863</td>\n",
       "      <td>196432.0</td>\n",
       "      <td>272868</td>\n",
       "      <td>20038</td>\n",
       "      <td>202500.0</td>\n",
       "      <td>47410.53125</td>\n",
       "      <td>3503</td>\n",
       "      <td>248526.0</td>\n",
       "      <td>0.0</td>\n",
       "      <td>69777.0</td>\n",
       "      <td>73830.0</td>\n",
       "      <td>25891.5</td>\n",
       "      <td>543085.9375</td>\n",
       "      <td>1090.424072</td>\n",
       "      <td>6712.5</td>\n",
       "      <td>1530.968384</td>\n",
       "    </tr>\n",
       "    <tr>\n",
       "      <th>307514</th>\n",
       "      <td>1866</td>\n",
       "      <td>1575000.0</td>\n",
       "      <td>1575000.0</td>\n",
       "      <td>158774.0</td>\n",
       "      <td>218391</td>\n",
       "      <td>196432.0</td>\n",
       "      <td>272868</td>\n",
       "      <td>13976</td>\n",
       "      <td>315000.0</td>\n",
       "      <td>47410.53125</td>\n",
       "      <td>4208</td>\n",
       "      <td>248526.0</td>\n",
       "      <td>0.0</td>\n",
       "      <td>49018.5</td>\n",
       "      <td>73830.0</td>\n",
       "      <td>25891.5</td>\n",
       "      <td>543085.9375</td>\n",
       "      <td>4996.267090</td>\n",
       "      <td>6712.5</td>\n",
       "      <td>4558.888672</td>\n",
       "    </tr>\n",
       "    <tr>\n",
       "      <th>307515</th>\n",
       "      <td>2191</td>\n",
       "      <td>625500.0</td>\n",
       "      <td>625500.0</td>\n",
       "      <td>158774.0</td>\n",
       "      <td>218391</td>\n",
       "      <td>196432.0</td>\n",
       "      <td>272868</td>\n",
       "      <td>13040</td>\n",
       "      <td>180000.0</td>\n",
       "      <td>47410.53125</td>\n",
       "      <td>4262</td>\n",
       "      <td>248526.0</td>\n",
       "      <td>0.0</td>\n",
       "      <td>32067.0</td>\n",
       "      <td>73830.0</td>\n",
       "      <td>25891.5</td>\n",
       "      <td>543085.9375</td>\n",
       "      <td>11736.103516</td>\n",
       "      <td>6712.5</td>\n",
       "      <td>367.753510</td>\n",
       "    </tr>\n",
       "  </tbody>\n",
       "</table>\n",
       "</div>"
      ],
      "text/plain": [
       "        DAYS_EMPLOYED  AMT_GOODS_PRICE  AMT_CREDIT  NAME_INCOME_TYPE  \\\n",
       "307511           2329         450000.0    568800.0          158774.0   \n",
       "307512           4469         180000.0    222768.0          158774.0   \n",
       "307513           4458         630000.0    663264.0          158774.0   \n",
       "307514           1866        1575000.0   1575000.0          158774.0   \n",
       "307515           2191         625500.0    625500.0          158774.0   \n",
       "\n",
       "        NAME_EDUCATION_TYPE  NAME_FAMILY_STATUS  NAME_HOUSING_TYPE  \\\n",
       "307511                74863            196432.0             272868   \n",
       "307512               218391            196432.0             272868   \n",
       "307513                74863            196432.0             272868   \n",
       "307514               218391            196432.0             272868   \n",
       "307515               218391            196432.0             272868   \n",
       "\n",
       "        DAYS_BIRTH  AMT_INCOME_TOTAL  Bureau_AMT_CREDIT_SUM_DEBT  \\\n",
       "307511       19241          135000.0                 47410.53125   \n",
       "307512       18064           99000.0                 47410.53125   \n",
       "307513       20038          202500.0                 47410.53125   \n",
       "307514       13976          315000.0                 47410.53125   \n",
       "307515       13040          180000.0                 47410.53125   \n",
       "\n",
       "        DAYS_ID_PUBLISH  NAME_TYPE_SUITE  Bureau_AMT_CREDIT_SUM_OVERDUE  \\\n",
       "307511              812         248526.0                            0.0   \n",
       "307512             1623         248526.0                            0.0   \n",
       "307513             3503         248526.0                            0.0   \n",
       "307514             4208         248526.0                            0.0   \n",
       "307515             4262         248526.0                            0.0   \n",
       "\n",
       "        AMT_ANNUITY  FONDKAPREMONT_MODE  Bureau_AMT_CREDIT_MAX_OVERDUE  \\\n",
       "307511      20560.5             73830.0                        25891.5   \n",
       "307512      17370.0             73830.0                        25891.5   \n",
       "307513      69777.0             73830.0                        25891.5   \n",
       "307514      49018.5             73830.0                        25891.5   \n",
       "307515      32067.0             73830.0                        25891.5   \n",
       "\n",
       "        Bureau_AMT_CREDIT_SUM  Prev_CCB_AMT_DRAWINGS_CURRENT  \\\n",
       "307511            543085.9375                    4996.267090   \n",
       "307512            543085.9375                    9184.992188   \n",
       "307513            543085.9375                    1090.424072   \n",
       "307514            543085.9375                    4996.267090   \n",
       "307515            543085.9375                   11736.103516   \n",
       "\n",
       "        Bureau_AMT_ANNUITY  Prev_CCB_AMT_PAYMENT_TOTAL_CURRENT  \n",
       "307511              6712.5                         4558.888672  \n",
       "307512              6712.5                         9456.458008  \n",
       "307513              6712.5                         1530.968384  \n",
       "307514              6712.5                         4558.888672  \n",
       "307515              6712.5                          367.753510  "
      ]
     },
     "execution_count": 88,
     "metadata": {},
     "output_type": "execute_result"
    }
   ],
   "source": [
    "# define x and y features (top 20 features)\n",
    "pred_test = data_test[['DAYS_EMPLOYED', 'AMT_GOODS_PRICE', 'AMT_CREDIT', \n",
    "                           'NAME_INCOME_TYPE', 'NAME_EDUCATION_TYPE', 'NAME_FAMILY_STATUS', \n",
    "                           'NAME_HOUSING_TYPE', 'DAYS_BIRTH', 'AMT_INCOME_TOTAL', \n",
    "                           'Bureau_AMT_CREDIT_SUM_DEBT', 'DAYS_ID_PUBLISH', 'NAME_TYPE_SUITE',\n",
    "                          'Bureau_AMT_CREDIT_SUM_OVERDUE', 'AMT_ANNUITY', 'FONDKAPREMONT_MODE', 'Bureau_AMT_CREDIT_MAX_OVERDUE',\n",
    "                          'Bureau_AMT_CREDIT_SUM', 'Prev_CCB_AMT_DRAWINGS_CURRENT', 'Bureau_AMT_ANNUITY', 'Prev_CCB_AMT_PAYMENT_TOTAL_CURRENT']]\n",
    "pred_test.head()"
   ]
  },
  {
   "cell_type": "code",
   "execution_count": 116,
   "metadata": {},
   "outputs": [
    {
     "data": {
      "text/html": [
       "<div>\n",
       "<style scoped>\n",
       "    .dataframe tbody tr th:only-of-type {\n",
       "        vertical-align: middle;\n",
       "    }\n",
       "\n",
       "    .dataframe tbody tr th {\n",
       "        vertical-align: top;\n",
       "    }\n",
       "\n",
       "    .dataframe thead th {\n",
       "        text-align: right;\n",
       "    }\n",
       "</style>\n",
       "<table border=\"1\" class=\"dataframe\">\n",
       "  <thead>\n",
       "    <tr style=\"text-align: right;\">\n",
       "      <th></th>\n",
       "      <th>SK_ID_CURR</th>\n",
       "      <th>TARGET</th>\n",
       "    </tr>\n",
       "  </thead>\n",
       "  <tbody>\n",
       "    <tr>\n",
       "      <th>0</th>\n",
       "      <td>100001</td>\n",
       "      <td>0</td>\n",
       "    </tr>\n",
       "    <tr>\n",
       "      <th>1</th>\n",
       "      <td>100005</td>\n",
       "      <td>0</td>\n",
       "    </tr>\n",
       "    <tr>\n",
       "      <th>2</th>\n",
       "      <td>100013</td>\n",
       "      <td>0</td>\n",
       "    </tr>\n",
       "    <tr>\n",
       "      <th>3</th>\n",
       "      <td>100028</td>\n",
       "      <td>0</td>\n",
       "    </tr>\n",
       "    <tr>\n",
       "      <th>4</th>\n",
       "      <td>100038</td>\n",
       "      <td>0</td>\n",
       "    </tr>\n",
       "  </tbody>\n",
       "</table>\n",
       "</div>"
      ],
      "text/plain": [
       "   SK_ID_CURR  TARGET\n",
       "0      100001       0\n",
       "1      100005       0\n",
       "2      100013       0\n",
       "3      100028       0\n",
       "4      100038       0"
      ]
     },
     "execution_count": 116,
     "metadata": {},
     "output_type": "execute_result"
    }
   ],
   "source": [
    "# lets predict!\n",
    "predict = pd.Series(rf_model.predict(pred_test), name = \"TARGET\").astype(int)\n",
    "sk_id = data_test['SK_ID_CURR'].copy()\n",
    "sk_id.reset_index(drop=True, inplace=True)\n",
    "results = pd.concat([sk_id, predict], axis = 1)\n",
    "results.head()"
   ]
  },
  {
   "cell_type": "markdown",
   "metadata": {},
   "source": [
    "**Recommendation**"
   ]
  },
  {
   "cell_type": "markdown",
   "metadata": {},
   "source": [
    "- Create a campaign so that more student, accountant, high skill tech staff, manager interested in applying for a loan\n",
    "- Need further analysis, you can survey to find out if there is a problem if a client with maternity leaves or unemployed takes a cash loans contract. So, in the future, if there are clients with that type of income, you can recommend the right contract type so that their applications will be approved\n",
    "- Clients who have no payment difficulties are clients in the range of 35-45 years. You can target these clients as your priority.\n",
    "\n"
   ]
  },
  {
   "cell_type": "code",
   "execution_count": null,
   "metadata": {},
   "outputs": [],
   "source": []
  }
 ],
 "metadata": {
  "colab": {
   "provenance": []
  },
  "kernelspec": {
   "display_name": "Python 3 (ipykernel)",
   "language": "python",
   "name": "python3"
  },
  "language_info": {
   "codemirror_mode": {
    "name": "ipython",
    "version": 3
   },
   "file_extension": ".py",
   "mimetype": "text/x-python",
   "name": "python",
   "nbconvert_exporter": "python",
   "pygments_lexer": "ipython3",
   "version": "3.9.7"
  }
 },
 "nbformat": 4,
 "nbformat_minor": 1
}
