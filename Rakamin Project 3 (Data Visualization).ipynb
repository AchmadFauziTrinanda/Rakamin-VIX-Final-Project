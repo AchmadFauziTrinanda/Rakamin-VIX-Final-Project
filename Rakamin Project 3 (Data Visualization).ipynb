{
 "cells": [
  {
   "cell_type": "markdown",
   "id": "7bf092de",
   "metadata": {},
   "source": [
    "# 1. Preparasi"
   ]
  },
  {
   "cell_type": "code",
   "execution_count": 2,
   "id": "56edafbc",
   "metadata": {},
   "outputs": [],
   "source": [
    "import pandas as pd\n",
    "import numpy as np\n",
    "\n",
    "import matplotlib.pyplot as plt\n",
    "import seaborn as sns\n",
    "\n",
    "import warnings\n",
    "warnings.filterwarnings('ignore')"
   ]
  },
  {
   "cell_type": "code",
   "execution_count": 3,
   "id": "69fa5377",
   "metadata": {},
   "outputs": [],
   "source": [
    "#buat fungsi untuk reduce memory.\n",
    "#intinya adalah iterasi keseluruh kolom pada dataframe dan mengubah datatype yg memorynya paling kecil.\n",
    "def reduce_mem_usage(df):\n",
    "    \n",
    "    start_mem = df.memory_usage().sum() / 1024**2\n",
    "    print('Memory usage of dataframe is {:.2f} MB'.format(start_mem))\n",
    "    \n",
    "    for col in df.columns:\n",
    "        col_type = df[col].dtype\n",
    "        \n",
    "        if col_type != object:\n",
    "            c_min = df[col].min()\n",
    "            c_max = df[col].max()\n",
    "            if str(col_type)[:3] == 'int':\n",
    "                if c_min > np.iinfo(np.int8).min and c_max < np.iinfo(np.int8).max:\n",
    "                    df[col] = df[col].astype(np.int8)\n",
    "                elif c_min > np.iinfo(np.int16).min and c_max < np.iinfo(np.int16).max:\n",
    "                    df[col] = df[col].astype(np.int16)\n",
    "                elif c_min > np.iinfo(np.int32).min and c_max < np.iinfo(np.int32).max:\n",
    "                    df[col] = df[col].astype(np.int32)\n",
    "                elif c_min > np.iinfo(np.int64).min and c_max < np.iinfo(np.int64).max:\n",
    "                    df[col] = df[col].astype(np.int64)  \n",
    "            else:\n",
    "                if c_min > np.finfo(np.float16).min and c_max < np.finfo(np.float16).max:\n",
    "                    df[col] = df[col].astype(np.float16)\n",
    "                elif c_min > np.finfo(np.float32).min and c_max < np.finfo(np.float32).max:\n",
    "                    df[col] = df[col].astype(np.float32)\n",
    "                else:\n",
    "                    df[col] = df[col].astype(np.float64)\n",
    "        else:\n",
    "            df[col] = df[col].astype('category')\n",
    "\n",
    "    end_mem = df.memory_usage().sum() / 1024**2\n",
    "    \n",
    "    print('Memory usage after optimization is: {:.2f} MB'.format(end_mem))\n",
    "    print('Decreased by {:.1f}%'.format(100 * (start_mem - end_mem) / start_mem))\n",
    "    \n",
    "    return df\n",
    "\n",
    "#fungsi untuk memanggil dataframe\n",
    "def import_data(file):\n",
    "    df = pd.read_csv(file, parse_dates=True, keep_date_col=True)\n",
    "    df = reduce_mem_usage(df)\n",
    "    return df"
   ]
  },
  {
   "cell_type": "code",
   "execution_count": 4,
   "id": "455896a1",
   "metadata": {},
   "outputs": [
    {
     "name": "stdout",
     "output_type": "stream",
     "text": [
      "Memory usage of dataframe is 220.16 MB\n",
      "Memory usage after optimization is: 73.39 MB\n",
      "Decreased by 66.7%\n"
     ]
    }
   ],
   "source": [
    "data = import_data('/Users/achmadfauzitrinanda/Downloads/data_final.csv')"
   ]
  },
  {
   "cell_type": "code",
   "execution_count": 5,
   "id": "4c1d01bf",
   "metadata": {},
   "outputs": [],
   "source": [
    "data.drop(columns=['Unnamed: 0', 'Unnamed: 0.1'], inplace=True)"
   ]
  },
  {
   "cell_type": "code",
   "execution_count": 6,
   "id": "f9b7c34f",
   "metadata": {},
   "outputs": [
    {
     "data": {
      "text/html": [
       "<div>\n",
       "<style scoped>\n",
       "    .dataframe tbody tr th:only-of-type {\n",
       "        vertical-align: middle;\n",
       "    }\n",
       "\n",
       "    .dataframe tbody tr th {\n",
       "        vertical-align: top;\n",
       "    }\n",
       "\n",
       "    .dataframe thead th {\n",
       "        text-align: right;\n",
       "    }\n",
       "</style>\n",
       "<table border=\"1\" class=\"dataframe\">\n",
       "  <thead>\n",
       "    <tr style=\"text-align: right;\">\n",
       "      <th></th>\n",
       "      <th>SK_ID_CURR</th>\n",
       "      <th>NAME_CONTRACT_TYPE</th>\n",
       "      <th>FLAG_OWN_CAR</th>\n",
       "      <th>FLAG_OWN_REALTY</th>\n",
       "      <th>CNT_CHILDREN</th>\n",
       "      <th>AMT_INCOME_TOTAL</th>\n",
       "      <th>AMT_CREDIT</th>\n",
       "      <th>AMT_ANNUITY</th>\n",
       "      <th>AMT_GOODS_PRICE</th>\n",
       "      <th>NAME_TYPE_SUITE</th>\n",
       "      <th>...</th>\n",
       "      <th>Prev_IP_AMT_INSTALMENT</th>\n",
       "      <th>Prev_IP_AMT_PAYMENT</th>\n",
       "      <th>Prev_CCB_AMT_BALANCE</th>\n",
       "      <th>Prev_CCB_AMT_CREDIT_LIMIT_ACTUAL</th>\n",
       "      <th>Prev_CCB_AMT_DRAWINGS_CURRENT</th>\n",
       "      <th>Prev_CCB_AMT_PAYMENT_TOTAL_CURRENT</th>\n",
       "      <th>Prev_CCB_AMT_RECEIVABLE_PRINCIPAL</th>\n",
       "      <th>Prev_CCB_AMT_RECIVABLE</th>\n",
       "      <th>Prev_CCB_AMT_TOTAL_RECEIVABLE</th>\n",
       "      <th>TARGET</th>\n",
       "    </tr>\n",
       "  </thead>\n",
       "  <tbody>\n",
       "    <tr>\n",
       "      <th>0</th>\n",
       "      <td>100002</td>\n",
       "      <td>0</td>\n",
       "      <td>0</td>\n",
       "      <td>0</td>\n",
       "      <td>0</td>\n",
       "      <td>202500.0</td>\n",
       "      <td>406597.5</td>\n",
       "      <td>24700.5</td>\n",
       "      <td>351000.0</td>\n",
       "      <td>248526.0</td>\n",
       "      <td>...</td>\n",
       "      <td>21081.261719</td>\n",
       "      <td>21081.261719</td>\n",
       "      <td>27858.203125</td>\n",
       "      <td>171000.000000</td>\n",
       "      <td>4996.267090</td>\n",
       "      <td>4558.888672</td>\n",
       "      <td>26644.955078</td>\n",
       "      <td>27533.273438</td>\n",
       "      <td>27533.273438</td>\n",
       "      <td>1.0</td>\n",
       "    </tr>\n",
       "    <tr>\n",
       "      <th>1</th>\n",
       "      <td>100003</td>\n",
       "      <td>0</td>\n",
       "      <td>0</td>\n",
       "      <td>1</td>\n",
       "      <td>0</td>\n",
       "      <td>270000.0</td>\n",
       "      <td>1293502.5</td>\n",
       "      <td>35698.5</td>\n",
       "      <td>1129500.0</td>\n",
       "      <td>40149.0</td>\n",
       "      <td>...</td>\n",
       "      <td>23136.941406</td>\n",
       "      <td>23136.941406</td>\n",
       "      <td>14996.948242</td>\n",
       "      <td>137903.218750</td>\n",
       "      <td>9184.992188</td>\n",
       "      <td>9456.458008</td>\n",
       "      <td>14305.061523</td>\n",
       "      <td>14548.675781</td>\n",
       "      <td>14548.675781</td>\n",
       "      <td>0.0</td>\n",
       "    </tr>\n",
       "    <tr>\n",
       "      <th>2</th>\n",
       "      <td>100004</td>\n",
       "      <td>1</td>\n",
       "      <td>1</td>\n",
       "      <td>0</td>\n",
       "      <td>0</td>\n",
       "      <td>67500.0</td>\n",
       "      <td>135000.0</td>\n",
       "      <td>6750.0</td>\n",
       "      <td>135000.0</td>\n",
       "      <td>248526.0</td>\n",
       "      <td>...</td>\n",
       "      <td>11450.142578</td>\n",
       "      <td>11450.142578</td>\n",
       "      <td>10685.238281</td>\n",
       "      <td>82025.320312</td>\n",
       "      <td>1090.424072</td>\n",
       "      <td>1530.968384</td>\n",
       "      <td>10255.441406</td>\n",
       "      <td>10597.750977</td>\n",
       "      <td>10597.750977</td>\n",
       "      <td>0.0</td>\n",
       "    </tr>\n",
       "    <tr>\n",
       "      <th>3</th>\n",
       "      <td>100006</td>\n",
       "      <td>0</td>\n",
       "      <td>0</td>\n",
       "      <td>0</td>\n",
       "      <td>0</td>\n",
       "      <td>135000.0</td>\n",
       "      <td>312682.5</td>\n",
       "      <td>29686.5</td>\n",
       "      <td>297000.0</td>\n",
       "      <td>248526.0</td>\n",
       "      <td>...</td>\n",
       "      <td>44632.816406</td>\n",
       "      <td>41626.031250</td>\n",
       "      <td>27858.203125</td>\n",
       "      <td>171000.000000</td>\n",
       "      <td>4996.267090</td>\n",
       "      <td>4558.888672</td>\n",
       "      <td>26644.955078</td>\n",
       "      <td>27533.273438</td>\n",
       "      <td>27533.273438</td>\n",
       "      <td>0.0</td>\n",
       "    </tr>\n",
       "    <tr>\n",
       "      <th>4</th>\n",
       "      <td>100007</td>\n",
       "      <td>0</td>\n",
       "      <td>0</td>\n",
       "      <td>0</td>\n",
       "      <td>0</td>\n",
       "      <td>121500.0</td>\n",
       "      <td>513000.0</td>\n",
       "      <td>21865.5</td>\n",
       "      <td>513000.0</td>\n",
       "      <td>248526.0</td>\n",
       "      <td>...</td>\n",
       "      <td>102297.515625</td>\n",
       "      <td>101564.226562</td>\n",
       "      <td>101208.390625</td>\n",
       "      <td>101250.000000</td>\n",
       "      <td>11736.103516</td>\n",
       "      <td>367.753510</td>\n",
       "      <td>88407.226562</td>\n",
       "      <td>98558.921875</td>\n",
       "      <td>98558.921875</td>\n",
       "      <td>0.0</td>\n",
       "    </tr>\n",
       "  </tbody>\n",
       "</table>\n",
       "<p>5 rows × 79 columns</p>\n",
       "</div>"
      ],
      "text/plain": [
       "   SK_ID_CURR  NAME_CONTRACT_TYPE  FLAG_OWN_CAR  FLAG_OWN_REALTY  \\\n",
       "0      100002                   0             0                0   \n",
       "1      100003                   0             0                1   \n",
       "2      100004                   1             1                0   \n",
       "3      100006                   0             0                0   \n",
       "4      100007                   0             0                0   \n",
       "\n",
       "   CNT_CHILDREN  AMT_INCOME_TOTAL  AMT_CREDIT  AMT_ANNUITY  AMT_GOODS_PRICE  \\\n",
       "0             0          202500.0    406597.5      24700.5         351000.0   \n",
       "1             0          270000.0   1293502.5      35698.5        1129500.0   \n",
       "2             0           67500.0    135000.0       6750.0         135000.0   \n",
       "3             0          135000.0    312682.5      29686.5         297000.0   \n",
       "4             0          121500.0    513000.0      21865.5         513000.0   \n",
       "\n",
       "   NAME_TYPE_SUITE  ...  Prev_IP_AMT_INSTALMENT  Prev_IP_AMT_PAYMENT  \\\n",
       "0         248526.0  ...            21081.261719         21081.261719   \n",
       "1          40149.0  ...            23136.941406         23136.941406   \n",
       "2         248526.0  ...            11450.142578         11450.142578   \n",
       "3         248526.0  ...            44632.816406         41626.031250   \n",
       "4         248526.0  ...           102297.515625        101564.226562   \n",
       "\n",
       "   Prev_CCB_AMT_BALANCE  Prev_CCB_AMT_CREDIT_LIMIT_ACTUAL  \\\n",
       "0          27858.203125                     171000.000000   \n",
       "1          14996.948242                     137903.218750   \n",
       "2          10685.238281                      82025.320312   \n",
       "3          27858.203125                     171000.000000   \n",
       "4         101208.390625                     101250.000000   \n",
       "\n",
       "   Prev_CCB_AMT_DRAWINGS_CURRENT  Prev_CCB_AMT_PAYMENT_TOTAL_CURRENT  \\\n",
       "0                    4996.267090                         4558.888672   \n",
       "1                    9184.992188                         9456.458008   \n",
       "2                    1090.424072                         1530.968384   \n",
       "3                    4996.267090                         4558.888672   \n",
       "4                   11736.103516                          367.753510   \n",
       "\n",
       "   Prev_CCB_AMT_RECEIVABLE_PRINCIPAL  Prev_CCB_AMT_RECIVABLE  \\\n",
       "0                       26644.955078            27533.273438   \n",
       "1                       14305.061523            14548.675781   \n",
       "2                       10255.441406            10597.750977   \n",
       "3                       26644.955078            27533.273438   \n",
       "4                       88407.226562            98558.921875   \n",
       "\n",
       "   Prev_CCB_AMT_TOTAL_RECEIVABLE  TARGET  \n",
       "0                   27533.273438     1.0  \n",
       "1                   14548.675781     0.0  \n",
       "2                   10597.750977     0.0  \n",
       "3                   27533.273438     0.0  \n",
       "4                   98558.921875     0.0  \n",
       "\n",
       "[5 rows x 79 columns]"
      ]
     },
     "execution_count": 6,
     "metadata": {},
     "output_type": "execute_result"
    }
   ],
   "source": [
    "data.head()"
   ]
  },
  {
   "cell_type": "code",
   "execution_count": 7,
   "id": "f0523a6a",
   "metadata": {},
   "outputs": [],
   "source": [
    "#split ke data training dan testing\n",
    "#karena yang akan divisualisasi hanya data training\n",
    "data_train = data[:307511]"
   ]
  },
  {
   "cell_type": "code",
   "execution_count": 8,
   "id": "80a2fb10",
   "metadata": {},
   "outputs": [
    {
     "data": {
      "text/plain": [
       "(307511, 79)"
      ]
     },
     "execution_count": 8,
     "metadata": {},
     "output_type": "execute_result"
    }
   ],
   "source": [
    "data_train.shape"
   ]
  },
  {
   "cell_type": "code",
   "execution_count": 9,
   "id": "e14156da",
   "metadata": {},
   "outputs": [],
   "source": [
    "data_test = data[307511:]"
   ]
  },
  {
   "cell_type": "code",
   "execution_count": 10,
   "id": "6cc24a69",
   "metadata": {},
   "outputs": [
    {
     "data": {
      "text/plain": [
       "(48744, 79)"
      ]
     },
     "execution_count": 10,
     "metadata": {},
     "output_type": "execute_result"
    }
   ],
   "source": [
    "data_test.shape"
   ]
  },
  {
   "cell_type": "markdown",
   "id": "fa0d16b0",
   "metadata": {},
   "source": [
    "# 2. Visualisasi Data Training"
   ]
  },
  {
   "cell_type": "code",
   "execution_count": 11,
   "id": "7425094e",
   "metadata": {},
   "outputs": [
    {
     "data": {
      "text/html": [
       "<div>\n",
       "<style scoped>\n",
       "    .dataframe tbody tr th:only-of-type {\n",
       "        vertical-align: middle;\n",
       "    }\n",
       "\n",
       "    .dataframe tbody tr th {\n",
       "        vertical-align: top;\n",
       "    }\n",
       "\n",
       "    .dataframe thead th {\n",
       "        text-align: right;\n",
       "    }\n",
       "</style>\n",
       "<table border=\"1\" class=\"dataframe\">\n",
       "  <thead>\n",
       "    <tr style=\"text-align: right;\">\n",
       "      <th></th>\n",
       "      <th>SK_ID_CURR</th>\n",
       "      <th>NAME_CONTRACT_TYPE</th>\n",
       "      <th>FLAG_OWN_CAR</th>\n",
       "      <th>FLAG_OWN_REALTY</th>\n",
       "      <th>CNT_CHILDREN</th>\n",
       "      <th>AMT_INCOME_TOTAL</th>\n",
       "      <th>AMT_CREDIT</th>\n",
       "      <th>AMT_ANNUITY</th>\n",
       "      <th>AMT_GOODS_PRICE</th>\n",
       "      <th>NAME_TYPE_SUITE</th>\n",
       "      <th>...</th>\n",
       "      <th>Prev_IP_AMT_INSTALMENT</th>\n",
       "      <th>Prev_IP_AMT_PAYMENT</th>\n",
       "      <th>Prev_CCB_AMT_BALANCE</th>\n",
       "      <th>Prev_CCB_AMT_CREDIT_LIMIT_ACTUAL</th>\n",
       "      <th>Prev_CCB_AMT_DRAWINGS_CURRENT</th>\n",
       "      <th>Prev_CCB_AMT_PAYMENT_TOTAL_CURRENT</th>\n",
       "      <th>Prev_CCB_AMT_RECEIVABLE_PRINCIPAL</th>\n",
       "      <th>Prev_CCB_AMT_RECIVABLE</th>\n",
       "      <th>Prev_CCB_AMT_TOTAL_RECEIVABLE</th>\n",
       "      <th>TARGET</th>\n",
       "    </tr>\n",
       "  </thead>\n",
       "  <tbody>\n",
       "    <tr>\n",
       "      <th>0</th>\n",
       "      <td>100002</td>\n",
       "      <td>0</td>\n",
       "      <td>0</td>\n",
       "      <td>0</td>\n",
       "      <td>0</td>\n",
       "      <td>202500.0</td>\n",
       "      <td>406597.5</td>\n",
       "      <td>24700.5</td>\n",
       "      <td>351000.0</td>\n",
       "      <td>248526.0</td>\n",
       "      <td>...</td>\n",
       "      <td>21081.261719</td>\n",
       "      <td>21081.261719</td>\n",
       "      <td>27858.203125</td>\n",
       "      <td>171000.000000</td>\n",
       "      <td>4996.267090</td>\n",
       "      <td>4558.888672</td>\n",
       "      <td>26644.955078</td>\n",
       "      <td>27533.273438</td>\n",
       "      <td>27533.273438</td>\n",
       "      <td>1.0</td>\n",
       "    </tr>\n",
       "    <tr>\n",
       "      <th>1</th>\n",
       "      <td>100003</td>\n",
       "      <td>0</td>\n",
       "      <td>0</td>\n",
       "      <td>1</td>\n",
       "      <td>0</td>\n",
       "      <td>270000.0</td>\n",
       "      <td>1293502.5</td>\n",
       "      <td>35698.5</td>\n",
       "      <td>1129500.0</td>\n",
       "      <td>40149.0</td>\n",
       "      <td>...</td>\n",
       "      <td>23136.941406</td>\n",
       "      <td>23136.941406</td>\n",
       "      <td>14996.948242</td>\n",
       "      <td>137903.218750</td>\n",
       "      <td>9184.992188</td>\n",
       "      <td>9456.458008</td>\n",
       "      <td>14305.061523</td>\n",
       "      <td>14548.675781</td>\n",
       "      <td>14548.675781</td>\n",
       "      <td>0.0</td>\n",
       "    </tr>\n",
       "    <tr>\n",
       "      <th>2</th>\n",
       "      <td>100004</td>\n",
       "      <td>1</td>\n",
       "      <td>1</td>\n",
       "      <td>0</td>\n",
       "      <td>0</td>\n",
       "      <td>67500.0</td>\n",
       "      <td>135000.0</td>\n",
       "      <td>6750.0</td>\n",
       "      <td>135000.0</td>\n",
       "      <td>248526.0</td>\n",
       "      <td>...</td>\n",
       "      <td>11450.142578</td>\n",
       "      <td>11450.142578</td>\n",
       "      <td>10685.238281</td>\n",
       "      <td>82025.320312</td>\n",
       "      <td>1090.424072</td>\n",
       "      <td>1530.968384</td>\n",
       "      <td>10255.441406</td>\n",
       "      <td>10597.750977</td>\n",
       "      <td>10597.750977</td>\n",
       "      <td>0.0</td>\n",
       "    </tr>\n",
       "    <tr>\n",
       "      <th>3</th>\n",
       "      <td>100006</td>\n",
       "      <td>0</td>\n",
       "      <td>0</td>\n",
       "      <td>0</td>\n",
       "      <td>0</td>\n",
       "      <td>135000.0</td>\n",
       "      <td>312682.5</td>\n",
       "      <td>29686.5</td>\n",
       "      <td>297000.0</td>\n",
       "      <td>248526.0</td>\n",
       "      <td>...</td>\n",
       "      <td>44632.816406</td>\n",
       "      <td>41626.031250</td>\n",
       "      <td>27858.203125</td>\n",
       "      <td>171000.000000</td>\n",
       "      <td>4996.267090</td>\n",
       "      <td>4558.888672</td>\n",
       "      <td>26644.955078</td>\n",
       "      <td>27533.273438</td>\n",
       "      <td>27533.273438</td>\n",
       "      <td>0.0</td>\n",
       "    </tr>\n",
       "    <tr>\n",
       "      <th>4</th>\n",
       "      <td>100007</td>\n",
       "      <td>0</td>\n",
       "      <td>0</td>\n",
       "      <td>0</td>\n",
       "      <td>0</td>\n",
       "      <td>121500.0</td>\n",
       "      <td>513000.0</td>\n",
       "      <td>21865.5</td>\n",
       "      <td>513000.0</td>\n",
       "      <td>248526.0</td>\n",
       "      <td>...</td>\n",
       "      <td>102297.515625</td>\n",
       "      <td>101564.226562</td>\n",
       "      <td>101208.390625</td>\n",
       "      <td>101250.000000</td>\n",
       "      <td>11736.103516</td>\n",
       "      <td>367.753510</td>\n",
       "      <td>88407.226562</td>\n",
       "      <td>98558.921875</td>\n",
       "      <td>98558.921875</td>\n",
       "      <td>0.0</td>\n",
       "    </tr>\n",
       "  </tbody>\n",
       "</table>\n",
       "<p>5 rows × 79 columns</p>\n",
       "</div>"
      ],
      "text/plain": [
       "   SK_ID_CURR  NAME_CONTRACT_TYPE  FLAG_OWN_CAR  FLAG_OWN_REALTY  \\\n",
       "0      100002                   0             0                0   \n",
       "1      100003                   0             0                1   \n",
       "2      100004                   1             1                0   \n",
       "3      100006                   0             0                0   \n",
       "4      100007                   0             0                0   \n",
       "\n",
       "   CNT_CHILDREN  AMT_INCOME_TOTAL  AMT_CREDIT  AMT_ANNUITY  AMT_GOODS_PRICE  \\\n",
       "0             0          202500.0    406597.5      24700.5         351000.0   \n",
       "1             0          270000.0   1293502.5      35698.5        1129500.0   \n",
       "2             0           67500.0    135000.0       6750.0         135000.0   \n",
       "3             0          135000.0    312682.5      29686.5         297000.0   \n",
       "4             0          121500.0    513000.0      21865.5         513000.0   \n",
       "\n",
       "   NAME_TYPE_SUITE  ...  Prev_IP_AMT_INSTALMENT  Prev_IP_AMT_PAYMENT  \\\n",
       "0         248526.0  ...            21081.261719         21081.261719   \n",
       "1          40149.0  ...            23136.941406         23136.941406   \n",
       "2         248526.0  ...            11450.142578         11450.142578   \n",
       "3         248526.0  ...            44632.816406         41626.031250   \n",
       "4         248526.0  ...           102297.515625        101564.226562   \n",
       "\n",
       "   Prev_CCB_AMT_BALANCE  Prev_CCB_AMT_CREDIT_LIMIT_ACTUAL  \\\n",
       "0          27858.203125                     171000.000000   \n",
       "1          14996.948242                     137903.218750   \n",
       "2          10685.238281                      82025.320312   \n",
       "3          27858.203125                     171000.000000   \n",
       "4         101208.390625                     101250.000000   \n",
       "\n",
       "   Prev_CCB_AMT_DRAWINGS_CURRENT  Prev_CCB_AMT_PAYMENT_TOTAL_CURRENT  \\\n",
       "0                    4996.267090                         4558.888672   \n",
       "1                    9184.992188                         9456.458008   \n",
       "2                    1090.424072                         1530.968384   \n",
       "3                    4996.267090                         4558.888672   \n",
       "4                   11736.103516                          367.753510   \n",
       "\n",
       "   Prev_CCB_AMT_RECEIVABLE_PRINCIPAL  Prev_CCB_AMT_RECIVABLE  \\\n",
       "0                       26644.955078            27533.273438   \n",
       "1                       14305.061523            14548.675781   \n",
       "2                       10255.441406            10597.750977   \n",
       "3                       26644.955078            27533.273438   \n",
       "4                       88407.226562            98558.921875   \n",
       "\n",
       "   Prev_CCB_AMT_TOTAL_RECEIVABLE  TARGET  \n",
       "0                   27533.273438     1.0  \n",
       "1                   14548.675781     0.0  \n",
       "2                   10597.750977     0.0  \n",
       "3                   27533.273438     0.0  \n",
       "4                   98558.921875     0.0  \n",
       "\n",
       "[5 rows x 79 columns]"
      ]
     },
     "execution_count": 11,
     "metadata": {},
     "output_type": "execute_result"
    }
   ],
   "source": [
    "data_train.head()"
   ]
  },
  {
   "cell_type": "code",
   "execution_count": 12,
   "id": "9765a398",
   "metadata": {},
   "outputs": [
    {
     "name": "stdout",
     "output_type": "stream",
     "text": [
      "SK_ID_CURR\n",
      "NAME_CONTRACT_TYPE\n",
      "FLAG_OWN_CAR\n",
      "FLAG_OWN_REALTY\n",
      "CNT_CHILDREN\n",
      "AMT_INCOME_TOTAL\n",
      "AMT_CREDIT\n",
      "AMT_ANNUITY\n",
      "AMT_GOODS_PRICE\n",
      "NAME_TYPE_SUITE\n",
      "NAME_INCOME_TYPE\n",
      "NAME_EDUCATION_TYPE\n",
      "NAME_FAMILY_STATUS\n",
      "NAME_HOUSING_TYPE\n",
      "DAYS_BIRTH\n",
      "DAYS_EMPLOYED\n",
      "DAYS_ID_PUBLISH\n",
      "FLAG_EMP_PHONE\n",
      "FLAG_WORK_PHONE\n",
      "FLAG_CONT_MOBILE\n",
      "FLAG_PHONE\n",
      "FLAG_EMAIL\n",
      "REGION_RATING_CLIENT\n",
      "REGION_RATING_CLIENT_W_CITY\n",
      "WEEKDAY_APPR_PROCESS_START\n",
      "HOUR_APPR_PROCESS_START\n",
      "REG_REGION_NOT_LIVE_REGION\n",
      "REG_REGION_NOT_WORK_REGION\n",
      "LIVE_REGION_NOT_WORK_REGION\n",
      "REG_CITY_NOT_LIVE_CITY\n",
      "REG_CITY_NOT_WORK_CITY\n",
      "LIVE_CITY_NOT_WORK_CITY\n",
      "ORGANIZATION_TYPE\n",
      "FONDKAPREMONT_MODE\n",
      "HOUSETYPE_MODE\n",
      "WALLSMATERIAL_MODE\n",
      "FLAG_DOCUMENT_3\n",
      "FLAG_DOCUMENT_5\n",
      "FLAG_DOCUMENT_6\n",
      "FLAG_DOCUMENT_7\n",
      "FLAG_DOCUMENT_8\n",
      "FLAG_DOCUMENT_9\n",
      "FLAG_DOCUMENT_11\n",
      "FLAG_DOCUMENT_13\n",
      "FLAG_DOCUMENT_14\n",
      "FLAG_DOCUMENT_15\n",
      "FLAG_DOCUMENT_16\n",
      "FLAG_DOCUMENT_17\n",
      "FLAG_DOCUMENT_18\n",
      "FLAG_DOCUMENT_19\n",
      "FLAG_DOCUMENT_20\n",
      "FLAG_DOCUMENT_21\n",
      "Bureau_AMT_CREDIT_MAX_OVERDUE\n",
      "Bureau_AMT_CREDIT_SUM\n",
      "Bureau_AMT_CREDIT_SUM_DEBT\n",
      "Bureau_AMT_CREDIT_SUM_LIMIT\n",
      "Bureau_AMT_CREDIT_SUM_OVERDUE\n",
      "Bureau_AMT_ANNUITY\n",
      "Prev_AMT_ANNUITY\n",
      "Prev_AMT_APPLICATION\n",
      "Prev_AMT_CREDIT\n",
      "Prev_AMT_DOWN_PAYMENT\n",
      "Prev_AMT_GOODS_PRICE\n",
      "Prev_SELLERPLACE_AREA\n",
      "Prev_DAYS_FIRST_DRAWING\n",
      "Prev_DAYS_FIRST_DUE\n",
      "Prev_DAYS_LAST_DUE_1ST_VERSION\n",
      "Prev_DAYS_LAST_DUE\n",
      "Prev_DAYS_TERMINATION\n",
      "Prev_IP_AMT_INSTALMENT\n",
      "Prev_IP_AMT_PAYMENT\n",
      "Prev_CCB_AMT_BALANCE\n",
      "Prev_CCB_AMT_CREDIT_LIMIT_ACTUAL\n",
      "Prev_CCB_AMT_DRAWINGS_CURRENT\n",
      "Prev_CCB_AMT_PAYMENT_TOTAL_CURRENT\n",
      "Prev_CCB_AMT_RECEIVABLE_PRINCIPAL\n",
      "Prev_CCB_AMT_RECIVABLE\n",
      "Prev_CCB_AMT_TOTAL_RECEIVABLE\n",
      "TARGET\n"
     ]
    }
   ],
   "source": [
    "for columns in data_train.columns:\n",
    "    print(columns)"
   ]
  },
  {
   "cell_type": "markdown",
   "id": "55cac480",
   "metadata": {},
   "source": [
    "# 2.1 Distribusi dari Target"
   ]
  },
  {
   "cell_type": "code",
   "execution_count": 13,
   "id": "bcb928c3",
   "metadata": {},
   "outputs": [
    {
     "data": {
      "text/plain": [
       "<AxesSubplot:xlabel='TARGET', ylabel='count'>"
      ]
     },
     "execution_count": 13,
     "metadata": {},
     "output_type": "execute_result"
    },
    {
     "data": {
      "image/png": "[encoded data removed]",
      "text/plain": [
       "<Figure size 432x288 with 1 Axes>"
      ]
     },
     "metadata": {
      "needs_background": "light"
     },
     "output_type": "display_data"
    }
   ],
   "source": [
    "sns.countplot(data_train['TARGET'], color='blue')"
   ]
  },
  {
   "cell_type": "code",
   "execution_count": 14,
   "id": "fc7f637f",
   "metadata": {},
   "outputs": [
    {
     "name": "stdout",
     "output_type": "stream",
     "text": [
      "<class 'pandas.core.frame.DataFrame'>\n",
      "RangeIndex: 307511 entries, 0 to 307510\n",
      "Data columns (total 79 columns):\n",
      " #   Column                              Non-Null Count   Dtype  \n",
      "---  ------                              --------------   -----  \n",
      " 0   SK_ID_CURR                          307511 non-null  int32  \n",
      " 1   NAME_CONTRACT_TYPE                  307511 non-null  int8   \n",
      " 2   FLAG_OWN_CAR                        307511 non-null  int8   \n",
      " 3   FLAG_OWN_REALTY                     307511 non-null  int8   \n",
      " 4   CNT_CHILDREN                        307511 non-null  int8   \n",
      " 5   AMT_INCOME_TOTAL                    307511 non-null  float32\n",
      " 6   AMT_CREDIT                          307511 non-null  float32\n",
      " 7   AMT_ANNUITY                         307511 non-null  float32\n",
      " 8   AMT_GOODS_PRICE                     307511 non-null  float32\n",
      " 9   NAME_TYPE_SUITE                     307511 non-null  float32\n",
      " 10  NAME_INCOME_TYPE                    307511 non-null  float32\n",
      " 11  NAME_EDUCATION_TYPE                 307511 non-null  int32  \n",
      " 12  NAME_FAMILY_STATUS                  307511 non-null  float32\n",
      " 13  NAME_HOUSING_TYPE                   307511 non-null  int32  \n",
      " 14  DAYS_BIRTH                          307511 non-null  int16  \n",
      " 15  DAYS_EMPLOYED                       307511 non-null  int32  \n",
      " 16  DAYS_ID_PUBLISH                     307511 non-null  int16  \n",
      " 17  FLAG_EMP_PHONE                      307511 non-null  int8   \n",
      " 18  FLAG_WORK_PHONE                     307511 non-null  int8   \n",
      " 19  FLAG_CONT_MOBILE                    307511 non-null  int8   \n",
      " 20  FLAG_PHONE                          307511 non-null  int8   \n",
      " 21  FLAG_EMAIL                          307511 non-null  int8   \n",
      " 22  REGION_RATING_CLIENT                307511 non-null  int8   \n",
      " 23  REGION_RATING_CLIENT_W_CITY         307511 non-null  int8   \n",
      " 24  WEEKDAY_APPR_PROCESS_START          307511 non-null  int32  \n",
      " 25  HOUR_APPR_PROCESS_START             307511 non-null  int8   \n",
      " 26  REG_REGION_NOT_LIVE_REGION          307511 non-null  int8   \n",
      " 27  REG_REGION_NOT_WORK_REGION          307511 non-null  int8   \n",
      " 28  LIVE_REGION_NOT_WORK_REGION         307511 non-null  int8   \n",
      " 29  REG_CITY_NOT_LIVE_CITY              307511 non-null  int8   \n",
      " 30  REG_CITY_NOT_WORK_CITY              307511 non-null  int8   \n",
      " 31  LIVE_CITY_NOT_WORK_CITY             307511 non-null  int8   \n",
      " 32  ORGANIZATION_TYPE                   307511 non-null  int32  \n",
      " 33  FONDKAPREMONT_MODE                  307511 non-null  float32\n",
      " 34  HOUSETYPE_MODE                      307511 non-null  float32\n",
      " 35  WALLSMATERIAL_MODE                  307511 non-null  float32\n",
      " 36  FLAG_DOCUMENT_3                     307511 non-null  int8   \n",
      " 37  FLAG_DOCUMENT_5                     307511 non-null  int8   \n",
      " 38  FLAG_DOCUMENT_6                     307511 non-null  int8   \n",
      " 39  FLAG_DOCUMENT_7                     307511 non-null  int8   \n",
      " 40  FLAG_DOCUMENT_8                     307511 non-null  int8   \n",
      " 41  FLAG_DOCUMENT_9                     307511 non-null  int8   \n",
      " 42  FLAG_DOCUMENT_11                    307511 non-null  int8   \n",
      " 43  FLAG_DOCUMENT_13                    307511 non-null  int8   \n",
      " 44  FLAG_DOCUMENT_14                    307511 non-null  int8   \n",
      " 45  FLAG_DOCUMENT_15                    307511 non-null  int8   \n",
      " 46  FLAG_DOCUMENT_16                    307511 non-null  int8   \n",
      " 47  FLAG_DOCUMENT_17                    307511 non-null  int8   \n",
      " 48  FLAG_DOCUMENT_18                    307511 non-null  int8   \n",
      " 49  FLAG_DOCUMENT_19                    307511 non-null  int8   \n",
      " 50  FLAG_DOCUMENT_20                    307511 non-null  int8   \n",
      " 51  FLAG_DOCUMENT_21                    307511 non-null  int8   \n",
      " 52  Bureau_AMT_CREDIT_MAX_OVERDUE       307511 non-null  float32\n",
      " 53  Bureau_AMT_CREDIT_SUM               307511 non-null  float32\n",
      " 54  Bureau_AMT_CREDIT_SUM_DEBT          307511 non-null  float32\n",
      " 55  Bureau_AMT_CREDIT_SUM_LIMIT         307511 non-null  float32\n",
      " 56  Bureau_AMT_CREDIT_SUM_OVERDUE       307511 non-null  float32\n",
      " 57  Bureau_AMT_ANNUITY                  307511 non-null  float32\n",
      " 58  Prev_AMT_ANNUITY                    307511 non-null  float32\n",
      " 59  Prev_AMT_APPLICATION                307511 non-null  float32\n",
      " 60  Prev_AMT_CREDIT                     307511 non-null  float32\n",
      " 61  Prev_AMT_DOWN_PAYMENT               307511 non-null  float32\n",
      " 62  Prev_AMT_GOODS_PRICE                307511 non-null  float32\n",
      " 63  Prev_SELLERPLACE_AREA               307511 non-null  float32\n",
      " 64  Prev_DAYS_FIRST_DRAWING             307511 non-null  float32\n",
      " 65  Prev_DAYS_FIRST_DUE                 307511 non-null  float32\n",
      " 66  Prev_DAYS_LAST_DUE_1ST_VERSION      307511 non-null  float32\n",
      " 67  Prev_DAYS_LAST_DUE                  307511 non-null  float32\n",
      " 68  Prev_DAYS_TERMINATION               307511 non-null  float32\n",
      " 69  Prev_IP_AMT_INSTALMENT              307511 non-null  float32\n",
      " 70  Prev_IP_AMT_PAYMENT                 307511 non-null  float32\n",
      " 71  Prev_CCB_AMT_BALANCE                307511 non-null  float32\n",
      " 72  Prev_CCB_AMT_CREDIT_LIMIT_ACTUAL    307511 non-null  float32\n",
      " 73  Prev_CCB_AMT_DRAWINGS_CURRENT       307511 non-null  float32\n",
      " 74  Prev_CCB_AMT_PAYMENT_TOTAL_CURRENT  307511 non-null  float32\n",
      " 75  Prev_CCB_AMT_RECEIVABLE_PRINCIPAL   307511 non-null  float32\n",
      " 76  Prev_CCB_AMT_RECIVABLE              307511 non-null  float32\n",
      " 77  Prev_CCB_AMT_TOTAL_RECEIVABLE       307511 non-null  float32\n",
      " 78  TARGET                              307511 non-null  float16\n",
      "dtypes: float16(1), float32(36), int16(2), int32(6), int8(34)\n",
      "memory usage: 61.0 MB\n"
     ]
    }
   ],
   "source": [
    "data_train.info()"
   ]
  },
  {
   "cell_type": "markdown",
   "id": "44d6819e",
   "metadata": {},
   "source": [
    "- Dari data diatas dapat dilihat bahwa target imbalance.\n",
    "- perlu dilakukan treatment sebelum modelling."
   ]
  },
  {
   "cell_type": "markdown",
   "id": "60b9b9b5",
   "metadata": {},
   "source": [
    "# 2.2 Distribusi dari Gender"
   ]
  },
  {
   "cell_type": "code",
   "execution_count": 16,
   "id": "b094d52b",
   "metadata": {},
   "outputs": [
    {
     "data": {
      "text/plain": [
       "<AxesSubplot:xlabel='AMT_INCOME_TOTAL', ylabel='Density'>"
      ]
     },
     "execution_count": 16,
     "metadata": {},
     "output_type": "execute_result"
    },
    {
     "data": {
      "image/png": "[encoded data removed]",
      "text/plain": [
       "<Figure size 432x288 with 1 Axes>"
      ]
     },
     "metadata": {
      "needs_background": "light"
     },
     "output_type": "display_data"
    }
   ],
   "source": [
    "sns.distplot(data_train['AMT_INCOME_TOTAL'])"
   ]
  },
  {
   "cell_type": "code",
   "execution_count": 17,
   "id": "59858192",
   "metadata": {},
   "outputs": [
    {
     "data": {
      "text/plain": [
       "<AxesSubplot:xlabel='AMT_CREDIT', ylabel='Density'>"
      ]
     },
     "execution_count": 17,
     "metadata": {},
     "output_type": "execute_result"
    },
    {
     "data": {
      "image/png": "[encoded data removed]",
      "text/plain": [
       "<Figure size 432x288 with 1 Axes>"
      ]
     },
     "metadata": {
      "needs_background": "light"
     },
     "output_type": "display_data"
    }
   ],
   "source": [
    "sns.distplot(data_train['AMT_CREDIT'])"
   ]
  },
  {
   "cell_type": "code",
   "execution_count": 18,
   "id": "261087af",
   "metadata": {},
   "outputs": [
    {
     "data": {
      "text/plain": [
       "<AxesSubplot:xlabel='AMT_ANNUITY', ylabel='Density'>"
      ]
     },
     "execution_count": 18,
     "metadata": {},
     "output_type": "execute_result"
    },
    {
     "data": {
      "image/png": "[encoded data removed]",
      "text/plain": [
       "<Figure size 432x288 with 1 Axes>"
      ]
     },
     "metadata": {
      "needs_background": "light"
     },
     "output_type": "display_data"
    }
   ],
   "source": [
    "sns.distplot(data_train['AMT_ANNUITY'])"
   ]
  },
  {
   "cell_type": "code",
   "execution_count": 19,
   "id": "fb602907",
   "metadata": {},
   "outputs": [
    {
     "data": {
      "text/plain": [
       "<AxesSubplot:xlabel='NAME_EDUCATION_TYPE', ylabel='count'>"
      ]
     },
     "execution_count": 19,
     "metadata": {},
     "output_type": "execute_result"
    },
    {
     "data": {
      "image/png": "[encoded data removed]",
      "text/plain": [
       "<Figure size 432x288 with 1 Axes>"
      ]
     },
     "metadata": {
      "needs_background": "light"
     },
     "output_type": "display_data"
    }
   ],
   "source": [
    "sns.countplot(data_train['NAME_EDUCATION_TYPE'], color='green')"
   ]
  },
  {
   "cell_type": "code",
   "execution_count": 20,
   "id": "1c32140e",
   "metadata": {},
   "outputs": [
    {
     "data": {
      "text/plain": [
       "<AxesSubplot:xlabel='NAME_INCOME_TYPE', ylabel='count'>"
      ]
     },
     "execution_count": 20,
     "metadata": {},
     "output_type": "execute_result"
    },
    {
     "data": {
      "image/png": "[encoded data removed]",
      "text/plain": [
       "<Figure size 432x288 with 1 Axes>"
      ]
     },
     "metadata": {
      "needs_background": "light"
     },
     "output_type": "display_data"
    }
   ],
   "source": [
    "sns.countplot(data_train['NAME_INCOME_TYPE'], color='red')"
   ]
  },
  {
   "cell_type": "code",
   "execution_count": 23,
   "id": "ee96b0f8",
   "metadata": {},
   "outputs": [],
   "source": [
    "no_age = data_train[data_train['TARGET']==0]['DAYS_BIRTH'].values/-365\n",
    "yes_age = data_train[data_train['TARGET']==1]['DAYS_BIRTH'].values/-365"
   ]
  },
  {
   "cell_type": "code",
   "execution_count": 24,
   "id": "7603defe",
   "metadata": {},
   "outputs": [
    {
     "data": {
      "image/png": "[encoded data removed]",
      "text/plain": [
       "<Figure size 720x216 with 1 Axes>"
      ]
     },
     "metadata": {
      "needs_background": "light"
     },
     "output_type": "display_data"
    },
    {
     "data": {
      "image/png": "[encoded data removed]",
      "text/plain": [
       "<Figure size 720x216 with 1 Axes>"
      ]
     },
     "metadata": {
      "needs_background": "light"
     },
     "output_type": "display_data"
    },
    {
     "data": {
      "image/png": "[encoded data removed]",
      "text/plain": [
       "<Figure size 720x216 with 1 Axes>"
      ]
     },
     "metadata": {
      "needs_background": "light"
     },
     "output_type": "display_data"
    }
   ],
   "source": [
    "plt.figure(figsize=(10,3))\n",
    "plt.hist(data_train['DAYS_BIRTH'].values/-365, bins=10, edgecolor='black', color='steelblue')\n",
    "plt.title('Age of Client (in years) at the time of Application\\n')\n",
    "plt.xlabel('Age Bucket')\n",
    "plt.ylabel('Number of Clients')\n",
    "plt.show()\n",
    "\n",
    "plt.figure(figsize=(10,3))\n",
    "plt.hist(no_age, bins=10, edgecolor='black', color='teal')\n",
    "plt.title('Age of Client (in years) who have No Payment Difficulties\\n')\n",
    "plt.xlabel('Age')\n",
    "plt.ylabel('Number of Clients')\n",
    "plt.show()\n",
    "\n",
    "plt.figure(figsize=(10,3))\n",
    "plt.hist(yes_age, bins=10, edgecolor='black', color='maroon')\n",
    "plt.title('Age of Client (in years) who have Payment Difficulties\\n')\n",
    "plt.xlabel('Age')\n",
    "plt.ylabel('Number of Clients')\n",
    "plt.show()"
   ]
  },
  {
   "cell_type": "code",
   "execution_count": 25,
   "id": "2577b559",
   "metadata": {},
   "outputs": [
    {
     "data": {
      "image/png": "[encoded data removed]",
      "text/plain": [
       "<Figure size 1080x576 with 2 Axes>"
      ]
     },
     "metadata": {
      "needs_background": "light"
     },
     "output_type": "display_data"
    }
   ],
   "source": [
    "fig = sns.catplot(x = 'NAME_INCOME_TYPE',\n",
    "            y = 'AMT_CREDIT', \n",
    "            hue = 'TARGET', \n",
    "            col = 'NAME_CONTRACT_TYPE', \n",
    "            kind = 'bar', palette = 'ch:start=0.2,rot=-.3_r',\n",
    "            data = data_train)\n",
    "\n",
    "fig.set_xticklabels(rotation=45, horizontalalignment='right')\n",
    "plt.gcf().set_size_inches(15, 8)\n",
    "plt.show()"
   ]
  },
  {
   "cell_type": "code",
   "execution_count": null,
   "id": "f4c042bf",
   "metadata": {},
   "outputs": [],
   "source": []
  }
 ],
 "metadata": {
  "kernelspec": {
   "display_name": "Python 3 (ipykernel)",
   "language": "python",
   "name": "python3"
  },
  "language_info": {
   "codemirror_mode": {
    "name": "ipython",
    "version": 3
   },
   "file_extension": ".py",
   "mimetype": "text/x-python",
   "name": "python",
   "nbconvert_exporter": "python",
   "pygments_lexer": "ipython3",
   "version": "3.9.7"
  }
 },
 "nbformat": 4,
 "nbformat_minor": 5
}
